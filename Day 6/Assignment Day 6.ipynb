{
 "cells": [
  {
   "cell_type": "markdown",
   "metadata": {},
   "source": [
    "# Assignment Day 6 | 13th July 2020"
   ]
  },
  {
   "cell_type": "markdown",
   "metadata": {},
   "source": [
    "### Question 1:\n",
    "Assuming that we have some email addresses in the \"username@companyname.com\" format, please write program\n",
    "to print the company name of a given email address. Both user names and company names are composed of letters\n",
    "only.\n",
    "\n",
    "Input Format:\n",
    "The first line of the input contains an email address.\n",
    "\n",
    "Output Format:\n",
    "Print the company name in single line.\n",
    "\n",
    "Example;\n",
    "\n",
    "Input:\n",
    "john@google.com\n",
    "\n",
    "Output:\n",
    "google"
   ]
  },
  {
   "cell_type": "code",
   "execution_count": 69,
   "metadata": {},
   "outputs": [
    {
     "name": "stdout",
     "output_type": "stream",
     "text": [
      "Enter your Mail address:ashish.sharma@cognizant.co.in\n",
      "Company Name is:  cognizant\n"
     ]
    }
   ],
   "source": [
    "import re \n",
    "\n",
    "def com(email):\n",
    "    second_part = email.rsplit('@', 1)[1]  # to consider the part after @ in mail address\n",
    "    company_name= second_part.split('.', 1)[0] # extracting only the company part from the second part\n",
    "    print(\"Company Name is: \",company_name)\n",
    "    \n",
    "mail = input(\"Enter your Mail address:\")\n",
    "com(mail)"
   ]
  },
  {
   "cell_type": "markdown",
   "metadata": {},
   "source": [
    "### Question 2:\n",
    "Write a program that accepts a comma-separated sequence of words as input and prints the words in a comma\n",
    "separated sequence after sorting them alphabetically.\n",
    "\n",
    "Input Format:\n",
    "The first line of input contains words separated by the comma.\n",
    "\n",
    "Output Format:\n",
    "Print the sorted words separated by the comma.\n",
    "\n",
    "Example:\n",
    "Input:\n",
    "without,hello,bag,world\n",
    "\n",
    "Output:\n",
    "bag,hello,without,world"
   ]
  },
  {
   "cell_type": "code",
   "execution_count": 109,
   "metadata": {},
   "outputs": [
    {
     "name": "stdout",
     "output_type": "stream",
     "text": [
      "enter data to sort separated by comma a,as,ant,aafter,all,look,live,love,later\n",
      "Sorted data are : a aafter all ant as later live look love\n"
     ]
    }
   ],
   "source": [
    "words=[x for x in input(\"enter data to sort separated by comma \").split(',')]\n",
    "words.sort()\n",
    "print (\"Sorted data are :\",' '.join(words))"
   ]
  },
  {
   "cell_type": "markdown",
   "metadata": {},
   "source": [
    "### Question 3:\n",
    "Create your own Jupyter Notebook for Sets.\n",
    "Reference link: https://www.w3schools.com/python/python_sets.asp"
   ]
  },
  {
   "cell_type": "markdown",
   "metadata": {},
   "source": [
    "**To be created in separate Notebook...**"
   ]
  },
  {
   "cell_type": "markdown",
   "metadata": {},
   "source": [
    "### Question 4:\n",
    "Given a list of n-1 numbers ranging from 1 to n, your task is to find the missing number. There are no duplicates.\n",
    "\n",
    "Input Format:\n",
    "The first line contains n-1 numbers with each number separated by a space.\n",
    "\n",
    "Output Format:\n",
    "Print the missing number\n",
    "\n",
    "Example:\n",
    "Input:1 2 4 6 3 7 8\n",
    "\n",
    "Output:5\n",
    "Explanation:\n",
    "\n",
    "In the above list of numbers 5 is missing and hence 5 is the input"
   ]
  },
  {
   "cell_type": "code",
   "execution_count": 104,
   "metadata": {},
   "outputs": [
    {
     "name": "stdout",
     "output_type": "stream",
     "text": [
      "\n",
      "Enter the range of numbers from 1 to n separated by space : 1 2 5 3 4 7 8 9\n",
      "The missing number is 6\n"
     ]
    }
   ],
   "source": [
    "def getMissingNumber(A):\n",
    "\n",
    "    # actual size is list's length + 1 since a number is missing from the list\n",
    "    m = len(A) + 1\n",
    "\n",
    "    # get sum of integers between 1 to list's length + 1\n",
    "    total = m * (m + 1) // 2\n",
    "\n",
    "    # the missing number is the difference between the expected sum and\n",
    "    # the actual sum  of integers in the list\n",
    "    return total - sum(A)\n",
    "\n",
    "  \n",
    "# read inputs from user using map() function  \n",
    "a = list(map(int,input(\"\\nEnter the range of numbers from 1 to n separated by space : \").strip().split()))\n",
    "print(\"The missing number is\", getMissingNumber(a))"
   ]
  },
  {
   "cell_type": "markdown",
   "metadata": {},
   "source": [
    "### Question 5:\n",
    "With a given list L, write a program to print this list L after removing all duplicate values with original order reserved.\n",
    "\n",
    "Example:\n",
    "If the input list is\n",
    "12 24 35 24 88 120 155 88 120 155\n",
    "\n",
    "Then the output should be\n",
    "12 24 35 88 120 155\n",
    "\n",
    "Explanation:\n",
    "Third, seventh and ninth element of the list L has been removed because it was already present.\n",
    "\n",
    "Input Format:\n",
    "In one line take the elements of the list L with each element separated by a space.\n",
    "\n",
    "Output Format:\n",
    "Print the elements of the modified list in one line with each element separated by a space.\n",
    "\n",
    "Example:\n",
    "Input: 12 24 35 24\n",
    "\n",
    "Output:\n",
    "12 24 35"
   ]
  },
  {
   "cell_type": "code",
   "execution_count": 107,
   "metadata": {},
   "outputs": [
    {
     "name": "stdout",
     "output_type": "stream",
     "text": [
      "\n",
      "Enter a list of numbers seperated by a space : 1 2 3 3 5 6 7 5 9 1 10 11\n",
      "1 2 3 5 6 7 9 10 11\n"
     ]
    }
   ],
   "source": [
    "# Below line read inputs from user using map() function  \n",
    "a = list(map(int,input(\"\\nEnter a list of numbers seperated by a space : \").strip().split()))\n",
    "\n",
    "output = list(dict.fromkeys(a))\n",
    "print(*output)"
   ]
  },
  {
   "cell_type": "code",
   "execution_count": null,
   "metadata": {},
   "outputs": [],
   "source": []
  }
 ],
 "metadata": {
  "kernelspec": {
   "display_name": "Python 3",
   "language": "python",
   "name": "python3"
  },
  "language_info": {
   "codemirror_mode": {
    "name": "ipython",
    "version": 3
   },
   "file_extension": ".py",
   "mimetype": "text/x-python",
   "name": "python",
   "nbconvert_exporter": "python",
   "pygments_lexer": "ipython3",
   "version": "3.7.6"
  }
 },
 "nbformat": 4,
 "nbformat_minor": 4
}
