{
 "cells": [
  {
   "cell_type": "markdown",
   "metadata": {},
   "source": [
    "# Assignment Day 3 | 8th July 2020"
   ]
  },
  {
   "cell_type": "markdown",
   "metadata": {},
   "source": [
    "#### Note: For the most of cases, the number is considered as float while input since it is not mentioned integer in the questions!"
   ]
  },
  {
   "cell_type": "markdown",
   "metadata": {},
   "source": [
    "### Question 1 :\n",
    "Write a program to subtract two complex numbers in Python."
   ]
  },
  {
   "cell_type": "code",
   "execution_count": 6,
   "metadata": {},
   "outputs": [
    {
     "name": "stdout",
     "output_type": "stream",
     "text": [
      "Enter 1st Complex no : 5+6j\n",
      "Enter 2nd Complex no : 3+5j\n",
      "Subtraction of 1st complex no and 2nd Complex no:  (2+1j)\n"
     ]
    }
   ],
   "source": [
    "def cmplxsub(z1,z2):\n",
    "    return z1 - z2\n",
    "\n",
    "z1 = complex(input(\"Enter 1st Complex no : \"))\n",
    "z2 = complex(input(\"Enter 2nd Complex no : \"))\n",
    "print(\"Subtraction of 1st complex no and 2nd Complex no: \",cmplxsub(z1,z2))"
   ]
  },
  {
   "cell_type": "markdown",
   "metadata": {},
   "source": [
    "### Question 2 :\n",
    "Write a program to find the fourth root of a number."
   ]
  },
  {
   "cell_type": "code",
   "execution_count": 10,
   "metadata": {},
   "outputs": [
    {
     "name": "stdout",
     "output_type": "stream",
     "text": [
      "Enter a no: 16.8\n",
      "Fourth Root of the no is:  2.0245444688580787\n"
     ]
    }
   ],
   "source": [
    "def root(x):\n",
    "    return x**(1.0/4)\n",
    "\n",
    "n = float(input(\"Enter a no: \"))\n",
    "print (\"Fourth Root of the no is: \",root(n))"
   ]
  },
  {
   "cell_type": "markdown",
   "metadata": {},
   "source": [
    "### Question 3:\n",
    "Write a program to swap two numbers in Python with the help of a temporary variable."
   ]
  },
  {
   "cell_type": "code",
   "execution_count": 14,
   "metadata": {},
   "outputs": [
    {
     "name": "stdout",
     "output_type": "stream",
     "text": [
      "Enter a no N1: 5\n",
      "Enter a no N2: 12\n",
      "N1 Value now is : 12\n",
      "N2 Value now is : 5\n"
     ]
    }
   ],
   "source": [
    "def swap(x,y):\n",
    "    temp = x\n",
    "    x = y\n",
    "    y = temp\n",
    "    print (\"N1 Value now is :\",x)\n",
    "    print (\"N2 Value now is :\",y)\n",
    "\n",
    "n1 = int(input(\"Enter a no N1: \"))\n",
    "n2 = int(input(\"Enter a no N2: \"))\n",
    "swap(n1,n2)"
   ]
  },
  {
   "cell_type": "markdown",
   "metadata": {},
   "source": [
    "### Question 4:\n",
    "Write a program to swap two numbers in Python without using a temporary variable."
   ]
  },
  {
   "cell_type": "code",
   "execution_count": 15,
   "metadata": {},
   "outputs": [
    {
     "name": "stdout",
     "output_type": "stream",
     "text": [
      "Enter a no N1: 16\n",
      "Enter a no N2: 2\n",
      "N1 Value now is : 2\n",
      "N2 Value now is : 16\n"
     ]
    }
   ],
   "source": [
    "def swap(x,y):\n",
    "    x = x +y\n",
    "    y = x - y\n",
    "    x = x - y\n",
    "    print (\"N1 Value now is :\",x)\n",
    "    print (\"N2 Value now is :\",y)\n",
    "\n",
    "n1 = int(input(\"Enter a no N1: \"))\n",
    "n2 = int(input(\"Enter a no N2: \"))\n",
    "swap(n1,n2)"
   ]
  },
  {
   "cell_type": "markdown",
   "metadata": {},
   "source": [
    "### Question 5:\n",
    "Write a program to convert fahrenheit to kelvin and celsius both."
   ]
  },
  {
   "cell_type": "code",
   "execution_count": 21,
   "metadata": {},
   "outputs": [
    {
     "name": "stdout",
     "output_type": "stream",
     "text": [
      "Enter Temperature in Fahrenheit: 98.6\n",
      "Temperature in Kelvin (K) = 310.50\n",
      "Temperature in Celsius (C) = 37.00\n"
     ]
    }
   ],
   "source": [
    "def Fahrenheit_to_Kelvin(F): \n",
    "    return 273.5 + ((F - 32.0) * (5.0/9.0)) \n",
    "\n",
    "def Fahrenheit_to_Celsius(F): \n",
    "    return (F - 32) * 5 / 9; \n",
    "\n",
    "# Driver function \n",
    "F = float(input(\"Enter Temperature in Fahrenheit: \"))\n",
    "print(\"Temperature in Kelvin (K) = {:.2f}\".format(Fahrenheit_to_Kelvin(F)))\n",
    "print(\"Temperature in Celsius (C) = {:.2f}\".format(Fahrenheit_to_Celsius(F)))"
   ]
  },
  {
   "cell_type": "markdown",
   "metadata": {},
   "source": [
    "### Question 6:\n",
    "Write a program to demonstrate all the available data types in Python. Hint: Use type() function."
   ]
  },
  {
   "cell_type": "code",
   "execution_count": 37,
   "metadata": {},
   "outputs": [
    {
     "name": "stdout",
     "output_type": "stream",
     "text": [
      "Hello World Data type-  <class 'str'> \n",
      " 20 Data type-  <class 'int'> \n",
      " 20.5 Data type-  <class 'float'> \n",
      " 1j Data type-  <class 'complex'> \n",
      " ['apple', 'banana', 'cherry'] Data type-  <class 'list'> \n",
      " ('apple', 'banana', 'cherry') Data type-  <class 'tuple'> \n",
      " range(0, 6) Data type-  <class 'range'> \n",
      " {'name': 'John', 'age': 36} Data type-  <class 'dict'> \n",
      " {'banana', 'cherry', 'apple'} Data type-  <class 'set'>\n"
     ]
    }
   ],
   "source": [
    "a = \"Hello World\" #string\n",
    "b = 20            #integer\n",
    "c = 20.5          #Float\n",
    "d = 1j            #Complex No\n",
    "e = [\"apple\", \"banana\", \"cherry\"]  #List\n",
    "f = (\"apple\", \"banana\", \"cherry\")  #Tuple\n",
    "g = range(6)                       #Range\n",
    "h = {\"name\" : \"John\", \"age\" : 36}  #Dictionary\n",
    "i = {\"apple\", \"banana\", \"cherry\"}  #Set\n",
    "\n",
    "print(a,\"Data type- \",type(a),\"\\n\",b,\"Data type- \",type(b),\"\\n\",c,\"Data type- \",type(c),\n",
    "      \"\\n\",d,\"Data type- \",type(d),\"\\n\",e,\"Data type- \",type(e),\"\\n\",f,\"Data type- \",type(f),\n",
    "      \"\\n\",g,\"Data type- \",type(g),\"\\n\",h,\"Data type- \",type(h),\"\\n\",i,\"Data type- \",type(i))"
   ]
  },
  {
   "cell_type": "markdown",
   "metadata": {},
   "source": [
    "### Question 7:\n",
    "Create a Markdown cell in jupyter and list the steps discussed in the session by Dr. Darshan\n",
    "Ingle sir to create Github profile and upload Githubs Assignment link."
   ]
  },
  {
   "cell_type": "markdown",
   "metadata": {},
   "source": [
    "1. Create a Github public repo and name it LetsUpgrade AI/ML\n",
    "2. Upload the files/solution in the repo in day wise manner.\n",
    "3. Copy the URL of the Folder of that day and paste in the Assignment Submission Form (Google Form)\n",
    "4. Make sure you are filling correct details in the Assignment Submission Form."
   ]
  },
  {
   "cell_type": "code",
   "execution_count": null,
   "metadata": {},
   "outputs": [],
   "source": []
  }
 ],
 "metadata": {
  "kernelspec": {
   "display_name": "Python 3",
   "language": "python",
   "name": "python3"
  },
  "language_info": {
   "codemirror_mode": {
    "name": "ipython",
    "version": 3
   },
   "file_extension": ".py",
   "mimetype": "text/x-python",
   "name": "python",
   "nbconvert_exporter": "python",
   "pygments_lexer": "ipython3",
   "version": "3.7.6"
  }
 },
 "nbformat": 4,
 "nbformat_minor": 4
}
