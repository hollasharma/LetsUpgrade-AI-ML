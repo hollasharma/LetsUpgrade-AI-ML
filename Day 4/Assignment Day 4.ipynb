{
 "cells": [
  {
   "cell_type": "markdown",
   "metadata": {},
   "source": [
    "# Assignment Day 4 | 9th July 2020"
   ]
  },
  {
   "cell_type": "markdown",
   "metadata": {},
   "source": [
    "### Question 1 :\n",
    "Research on whether addition, subtraction, multiplication, division, floor division and modulo\n",
    "operations be performed on complex numbers. Based on your study, implement a Python\n",
    "program to demonstrate these operations."
   ]
  },
  {
   "cell_type": "code",
   "execution_count": 7,
   "metadata": {},
   "outputs": [
    {
     "name": "stdout",
     "output_type": "stream",
     "text": [
      "Addition of Complex no  (2+2j)  and Complex no (8+8j)  =  (10+10j)\n",
      "Subtraction of Complex no  (2+2j)  from Complex no (8+8j)  =  (6+6j)\n",
      "Multiplication of Complex no  (2+2j)  and Complex no (8+8j)  =  32j\n",
      "Division of Complex no  (8+8j)  from Complex no (2+2j)  =  (4+0j)\n"
     ]
    }
   ],
   "source": [
    "c1 = 2+2j\n",
    "c2 = 8+8j\n",
    "\n",
    "# As per my study I got to know, floor division and Modulo operator is not applicable for Complex nos.\n",
    "# We can find the modulous of a complex no which is represented as |z| and is equal to √(x^2 + y^2), where x and y\n",
    "# are coefficients of i and j of a complex no\n",
    "\n",
    "\n",
    "print(\"Addition of Complex no \",c1,\" and Complex no\",c2,\" = \",c1+c2)\n",
    "print(\"Subtraction of Complex no \",c1,\" from Complex no\",c2,\" = \",c2-c1)\n",
    "print(\"Multiplication of Complex no \",c1,\" and Complex no\",c2,\" = \",c1*c2)\n",
    "print(\"Division of Complex no \",c2,\" from Complex no\",c1,\" = \",c2/c1)"
   ]
  },
  {
   "cell_type": "markdown",
   "metadata": {},
   "source": [
    "### Question 2 :\n",
    "Research on range() functions and its parameters. Create a markdown cell and write in your own\n",
    "words (no copy-paste from google please) what you understand about it. Implement a small\n",
    "program of your choice on the same."
   ]
  },
  {
   "cell_type": "markdown",
   "metadata": {},
   "source": [
    "##### Answer\n",
    "A range() is a built-in function in python which generates a series of integers based on the input parameters.\n",
    "The input parameters for the range() function is of three types. They are as follows:\n",
    "\n",
    "1. start value - When a start value is provided as to obtain the series of integers starting from the Start value\n",
    "2. stop value - When a stop value is provided as to obtain the series of integers starting from the Start value    upto the stop value but doesn't include the stop value\n",
    "3. step value - When a step value is provided as in to decide the increment value between each integer of the range\n",
    "\n",
    "We can either pass any one of the above parameters or pass 2 parameters or all the three parameters as required.\n",
    "\n",
    "By Default, if there is only one parameter provided then it serves as Stop value and the range starts from Zero.\n",
    "\n",
    "By Default, if there are two parameters provided, then the first parameter serves as the start value and second parameter serves as the stop value for the range\n",
    "\n",
    "By Default, if there are three parameters provided then first parameter serves as the start value and second parameter serves as the stop value and the last parameter serves as the step value for the range"
   ]
  },
  {
   "cell_type": "code",
   "execution_count": 17,
   "metadata": {},
   "outputs": [
    {
     "name": "stdout",
     "output_type": "stream",
     "text": [
      "passing one parameter in range function\n",
      "0 , 1 , 2 , 3 , 4 , 5 , 6 , 7 , \n",
      "\n",
      "passing two parameters in range function\n",
      "2 , 3 , 4 , 5 , 6 , 7 , 8 , 9 , 10 , 11 , \n",
      "\n",
      "passing three parameters in range function\n",
      "5 , 10 , 15 , 20 , 25 , 30 , "
     ]
    }
   ],
   "source": [
    "#Program to understand the range() function\n",
    "\n",
    "# Print passing one parameter in range function\n",
    "print(\"passing one parameter in range function\")\n",
    "for i in range(8):\n",
    "    print(i, end=' , ')\n",
    "\n",
    "print(\"\\n\\npassing two parameters in range function\")\n",
    "# Print passing two parameters in range function\n",
    "for i in range(2,12):\n",
    "    print(i, end=' , ')\n",
    "\n",
    "print(\"\\n\\npassing three parameters in range function\")\n",
    "# Print passing three parameters in range function\n",
    "for i in range(5,35,5):\n",
    "    print(i, end=' , ')"
   ]
  },
  {
   "cell_type": "markdown",
   "metadata": {},
   "source": [
    "### Question 3:\n",
    "Consider two numbers. Perform their subtraction and if the result of subtraction is greater than\n",
    "25, print their multiplication result else print their division result."
   ]
  },
  {
   "cell_type": "code",
   "execution_count": 20,
   "metadata": {},
   "outputs": [
    {
     "name": "stdout",
     "output_type": "stream",
     "text": [
      "Enter a no N1: 5\n",
      "Enter a no N2: 20\n",
      "Division of two numbers is:  0.25\n"
     ]
    }
   ],
   "source": [
    "n1 = int(input(\"Enter a no N1: \"))\n",
    "n2 = int(input(\"Enter a no N2: \"))\n",
    "\n",
    "sub = n1 - n2\n",
    "\n",
    "if (sub > 25):\n",
    "    print(\"Multiplication of two numbers is: \",n1*n2)\n",
    "\n",
    "else:\n",
    "    print(\"Division of two numbers is: \",n1/n2)\n",
    "    "
   ]
  },
  {
   "cell_type": "markdown",
   "metadata": {},
   "source": [
    "### Question 4:\n",
    "Consider a list of 10 elements of integer values. If the number in the list is divisible by 2, print the\n",
    "result as \"square of that number minus 2\"."
   ]
  },
  {
   "cell_type": "code",
   "execution_count": 28,
   "metadata": {},
   "outputs": [
    {
     "name": "stdout",
     "output_type": "stream",
     "text": [
      "5\n",
      "6\n",
      "3\n",
      "2\n",
      "5\n",
      "6\n",
      "4\n",
      "1\n",
      "2\n",
      "3\n",
      "square of number 6 minus 2 =  34\n",
      "square of number 2 minus 2 =  2\n",
      "square of number 6 minus 2 =  34\n",
      "square of number 4 minus 2 =  14\n",
      "square of number 2 minus 2 =  2\n"
     ]
    }
   ],
   "source": [
    "# create an empty list \n",
    "lst = [] \n",
    "  \n",
    "#list should have 10 elements\n",
    "n=10\n",
    "  \n",
    "# iterating till the range 10\n",
    "for i in range(0, n): \n",
    "    no = int(input()) \n",
    "  \n",
    "    lst.append(no) # adding the element \n",
    "      \n",
    "for n in lst:\n",
    "    if (n%2==0):\n",
    "        print(\"square of number {} minus 2 = \".format(n),(n**2 - 2))"
   ]
  },
  {
   "cell_type": "markdown",
   "metadata": {},
   "source": [
    "### Question 5:\n",
    "Consider a list of 10 elements. Print all the elements in the list which are greater than 7 when that\n",
    "number is divided 2."
   ]
  },
  {
   "cell_type": "code",
   "execution_count": 30,
   "metadata": {},
   "outputs": [
    {
     "name": "stdout",
     "output_type": "stream",
     "text": [
      "5\n",
      "99\n",
      "44\n",
      "30\n",
      "6\n",
      "36\n",
      "12\n",
      "45\n",
      "66\n",
      "2\n",
      "The elements of the list which has value greater than 7 when divided by 2 are: \n",
      " [99, 44, 30, 36, 45, 66]\n"
     ]
    }
   ],
   "source": [
    "# create an empty list \n",
    "lst = [] \n",
    "newlst  = []\n",
    "#list should have 10 elements\n",
    "n=10\n",
    "  \n",
    "# iterating till the range 10\n",
    "for i in range(0, n): \n",
    "    no = int(input()) \n",
    "  \n",
    "    lst.append(no) # adding the element \n",
    "    \n",
    "for n in lst:\n",
    "    val = n/2\n",
    "    if (val > 7):\n",
    "        newlst.append(n)\n",
    "        \n",
    "print(\"The elements of the list which has value greater than 7 when divided by 2 are: \\n\",newlst)"
   ]
  },
  {
   "cell_type": "code",
   "execution_count": null,
   "metadata": {},
   "outputs": [],
   "source": []
  }
 ],
 "metadata": {
  "kernelspec": {
   "display_name": "Python 3",
   "language": "python",
   "name": "python3"
  },
  "language_info": {
   "codemirror_mode": {
    "name": "ipython",
    "version": 3
   },
   "file_extension": ".py",
   "mimetype": "text/x-python",
   "name": "python",
   "nbconvert_exporter": "python",
   "pygments_lexer": "ipython3",
   "version": "3.7.6"
  }
 },
 "nbformat": 4,
 "nbformat_minor": 4
}
