{
 "cells": [
  {
   "cell_type": "markdown",
   "metadata": {},
   "source": [
    "# 1. Create a 3x3x3 array with random values "
   ]
  },
  {
   "cell_type": "code",
   "execution_count": 1,
   "metadata": {},
   "outputs": [
    {
     "name": "stdout",
     "output_type": "stream",
     "text": [
      "[[[0.38262165 0.89048052 0.60208943]\n",
      "  [0.70454236 0.59935705 0.77388425]\n",
      "  [0.23984924 0.85924349 0.09308061]]\n",
      "\n",
      " [[0.33459816 0.25402017 0.16753398]\n",
      "  [0.03321131 0.14131497 0.61315423]\n",
      "  [0.41590591 0.73140011 0.70418037]]\n",
      "\n",
      " [[0.71962122 0.04412282 0.10288877]\n",
      "  [0.91053099 0.12464218 0.88907497]\n",
      "  [0.80906216 0.60357741 0.92797578]]]\n"
     ]
    }
   ],
   "source": [
    "import numpy as np\n",
    "x = np.random.random((3,3,3))\n",
    "print(x)"
   ]
  },
  {
   "cell_type": "markdown",
   "metadata": {},
   "source": [
    "# 2.Create a 5x5 matrix with values 1,2,3,4 just below the diagonal"
   ]
  },
  {
   "cell_type": "code",
   "execution_count": 1,
   "metadata": {},
   "outputs": [
    {
     "data": {
      "application/javascript": [
       "\n",
       "        if (window._pyforest_update_imports_cell) { window._pyforest_update_imports_cell('import numpy as np'); }\n",
       "    "
      ],
      "text/plain": [
       "<IPython.core.display.Javascript object>"
      ]
     },
     "metadata": {},
     "output_type": "display_data"
    },
    {
     "data": {
      "application/javascript": [
       "\n",
       "        if (window._pyforest_update_imports_cell) { window._pyforest_update_imports_cell('import numpy as np'); }\n",
       "    "
      ],
      "text/plain": [
       "<IPython.core.display.Javascript object>"
      ]
     },
     "metadata": {},
     "output_type": "display_data"
    },
    {
     "name": "stdout",
     "output_type": "stream",
     "text": [
      "[[0 0 0 0 0]\n",
      " [1 0 0 0 0]\n",
      " [0 2 0 0 0]\n",
      " [0 0 3 0 0]\n",
      " [0 0 0 4 0]]\n"
     ]
    }
   ],
   "source": [
    "diag = np.diag(1+np.arange(4), k = -1)\n",
    "print (diag)"
   ]
  },
  {
   "cell_type": "markdown",
   "metadata": {},
   "source": [
    "# 3.Create a 8x8 matrix and fill it with a checkerboard pattern"
   ]
  },
  {
   "cell_type": "code",
   "execution_count": 3,
   "metadata": {},
   "outputs": [
    {
     "data": {
      "application/javascript": [
       "\n",
       "        if (window._pyforest_update_imports_cell) { window._pyforest_update_imports_cell('import numpy as np'); }\n",
       "    "
      ],
      "text/plain": [
       "<IPython.core.display.Javascript object>"
      ]
     },
     "metadata": {},
     "output_type": "display_data"
    },
    {
     "data": {
      "application/javascript": [
       "\n",
       "        if (window._pyforest_update_imports_cell) { window._pyforest_update_imports_cell('import numpy as np'); }\n",
       "    "
      ],
      "text/plain": [
       "<IPython.core.display.Javascript object>"
      ]
     },
     "metadata": {},
     "output_type": "display_data"
    },
    {
     "name": "stdout",
     "output_type": "stream",
     "text": [
      "[[0 1 0 1 0 1 0 1]\n",
      " [1 0 1 0 1 0 1 0]\n",
      " [0 1 0 1 0 1 0 1]\n",
      " [1 0 1 0 1 0 1 0]\n",
      " [0 1 0 1 0 1 0 1]\n",
      " [1 0 1 0 1 0 1 0]\n",
      " [0 1 0 1 0 1 0 1]\n",
      " [1 0 1 0 1 0 1 0]]\n"
     ]
    }
   ],
   "source": [
    "array= np.array([[0,1], [1,0]])\n",
    "cb = np.tile(array,(4,4))\n",
    "print (cb)"
   ]
  },
  {
   "cell_type": "markdown",
   "metadata": {},
   "source": [
    "# 4. Normalize a 5x5 random matrix"
   ]
  },
  {
   "cell_type": "code",
   "execution_count": 4,
   "metadata": {},
   "outputs": [
    {
     "data": {
      "application/javascript": [
       "\n",
       "        if (window._pyforest_update_imports_cell) { window._pyforest_update_imports_cell('import numpy as np'); }\n",
       "    "
      ],
      "text/plain": [
       "<IPython.core.display.Javascript object>"
      ]
     },
     "metadata": {},
     "output_type": "display_data"
    },
    {
     "name": "stdout",
     "output_type": "stream",
     "text": [
      "[[0.64766614 0.22251379 0.35160345 0.13636721 0.48351357]\n",
      " [0.73165554 0.54242446 0.04214815 0.29676162 0.67497097]\n",
      " [0.44583335 0.23545981 0.45751076 0.17392079 0.13073297]\n",
      " [0.4163674  0.34416193 0.11655229 0.9195984  0.47370443]\n",
      " [0.27218302 0.63120649 1.         0.62849133 0.        ]]\n"
     ]
    }
   ],
   "source": [
    "rm = np.random.random((5,5))\n",
    "rm_max, rm_min = rm.max(), rm.min()\n",
    "rm= (rm-rm_min)/(rm_max-rm_min)\n",
    "print (rm)"
   ]
  },
  {
   "cell_type": "markdown",
   "metadata": {},
   "source": [
    "# 5.  How to find common values between two arrays?"
   ]
  },
  {
   "cell_type": "code",
   "execution_count": 8,
   "metadata": {},
   "outputs": [
    {
     "data": {
      "application/javascript": [
       "\n",
       "        if (window._pyforest_update_imports_cell) { window._pyforest_update_imports_cell('import numpy as np'); }\n",
       "    "
      ],
      "text/plain": [
       "<IPython.core.display.Javascript object>"
      ]
     },
     "metadata": {},
     "output_type": "display_data"
    },
    {
     "name": "stdout",
     "output_type": "stream",
     "text": [
      "Array1:  [3 3 4 0 3 6 4 6 3 9]\n"
     ]
    },
    {
     "data": {
      "application/javascript": [
       "\n",
       "        if (window._pyforest_update_imports_cell) { window._pyforest_update_imports_cell('import numpy as np'); }\n",
       "    "
      ],
      "text/plain": [
       "<IPython.core.display.Javascript object>"
      ]
     },
     "metadata": {},
     "output_type": "display_data"
    },
    {
     "name": "stdout",
     "output_type": "stream",
     "text": [
      "Array2:  [15  1  9 10 15 17  1 17 15  2]\n",
      "\n",
      "Common values between two arrays:\n"
     ]
    },
    {
     "data": {
      "application/javascript": [
       "\n",
       "        if (window._pyforest_update_imports_cell) { window._pyforest_update_imports_cell('import numpy as np'); }\n",
       "    "
      ],
      "text/plain": [
       "<IPython.core.display.Javascript object>"
      ]
     },
     "metadata": {},
     "output_type": "display_data"
    },
    {
     "name": "stdout",
     "output_type": "stream",
     "text": [
      "[9]\n"
     ]
    }
   ],
   "source": [
    "array1 = np.random.randint(10, size=10)\n",
    "print(\"Array1: \",array1)\n",
    "array2 = np.random.randint(20, size=10)\n",
    "print(\"Array2: \",array2)\n",
    "print(\"\\nCommon values between two arrays:\")\n",
    "print(np.intersect1d(array1, array2))"
   ]
  },
  {
   "cell_type": "markdown",
   "metadata": {},
   "source": [
    "# 6.How to get the dates of yesterday, today and tomorrow?"
   ]
  },
  {
   "cell_type": "code",
   "execution_count": 9,
   "metadata": {},
   "outputs": [
    {
     "data": {
      "application/javascript": [
       "\n",
       "        if (window._pyforest_update_imports_cell) { window._pyforest_update_imports_cell('import numpy as np'); }\n",
       "    "
      ],
      "text/plain": [
       "<IPython.core.display.Javascript object>"
      ]
     },
     "metadata": {},
     "output_type": "display_data"
    },
    {
     "data": {
      "application/javascript": [
       "\n",
       "        if (window._pyforest_update_imports_cell) { window._pyforest_update_imports_cell('import numpy as np'); }\n",
       "    "
      ],
      "text/plain": [
       "<IPython.core.display.Javascript object>"
      ]
     },
     "metadata": {},
     "output_type": "display_data"
    },
    {
     "name": "stdout",
     "output_type": "stream",
     "text": [
      "Yestraday:  2020-07-25\n"
     ]
    },
    {
     "data": {
      "application/javascript": [
       "\n",
       "        if (window._pyforest_update_imports_cell) { window._pyforest_update_imports_cell('import numpy as np'); }\n",
       "    "
      ],
      "text/plain": [
       "<IPython.core.display.Javascript object>"
      ]
     },
     "metadata": {},
     "output_type": "display_data"
    },
    {
     "name": "stdout",
     "output_type": "stream",
     "text": [
      "Today:  2020-07-26\n"
     ]
    },
    {
     "data": {
      "application/javascript": [
       "\n",
       "        if (window._pyforest_update_imports_cell) { window._pyforest_update_imports_cell('import numpy as np'); }\n",
       "    "
      ],
      "text/plain": [
       "<IPython.core.display.Javascript object>"
      ]
     },
     "metadata": {},
     "output_type": "display_data"
    },
    {
     "data": {
      "application/javascript": [
       "\n",
       "        if (window._pyforest_update_imports_cell) { window._pyforest_update_imports_cell('import numpy as np'); }\n",
       "    "
      ],
      "text/plain": [
       "<IPython.core.display.Javascript object>"
      ]
     },
     "metadata": {},
     "output_type": "display_data"
    },
    {
     "name": "stdout",
     "output_type": "stream",
     "text": [
      "Tomorrow:  2020-07-27\n"
     ]
    }
   ],
   "source": [
    "yest = np.datetime64('today', 'D') - np.timedelta64(1, 'D')\n",
    "print(\"Yestraday: \",yest)\n",
    "tod     = np.datetime64('today', 'D')\n",
    "print(\"Today: \",tod)\n",
    "tom  = np.datetime64('today', 'D') + np.timedelta64(1, 'D')\n",
    "print(\"Tomorrow: \",tom)"
   ]
  },
  {
   "cell_type": "markdown",
   "metadata": {},
   "source": [
    "# 7. Consider two random array A and B, check if they are equal"
   ]
  },
  {
   "cell_type": "code",
   "execution_count": 11,
   "metadata": {},
   "outputs": [
    {
     "data": {
      "application/javascript": [
       "\n",
       "        if (window._pyforest_update_imports_cell) { window._pyforest_update_imports_cell('import numpy as np'); }\n",
       "    "
      ],
      "text/plain": [
       "<IPython.core.display.Javascript object>"
      ]
     },
     "metadata": {},
     "output_type": "display_data"
    },
    {
     "name": "stdout",
     "output_type": "stream",
     "text": [
      "Array1:  [4 3 1 0 4]\n"
     ]
    },
    {
     "data": {
      "application/javascript": [
       "\n",
       "        if (window._pyforest_update_imports_cell) { window._pyforest_update_imports_cell('import numpy as np'); }\n",
       "    "
      ],
      "text/plain": [
       "<IPython.core.display.Javascript object>"
      ]
     },
     "metadata": {},
     "output_type": "display_data"
    },
    {
     "name": "stdout",
     "output_type": "stream",
     "text": [
      "Array2:  [4 3 3 3 4]\n",
      "Test above two arrays are equal or not!\n"
     ]
    },
    {
     "data": {
      "application/javascript": [
       "\n",
       "        if (window._pyforest_update_imports_cell) { window._pyforest_update_imports_cell('import numpy as np'); }\n",
       "    "
      ],
      "text/plain": [
       "<IPython.core.display.Javascript object>"
      ]
     },
     "metadata": {},
     "output_type": "display_data"
    },
    {
     "name": "stdout",
     "output_type": "stream",
     "text": [
      "False\n"
     ]
    }
   ],
   "source": [
    "array1 = np.random.randint(5, size=5)\n",
    "print(\"Array1: \",array1)\n",
    "array2 = np.random.randint(6, size=5)\n",
    "print(\"Array2: \",array2)\n",
    "print(\"Test above two arrays are equal or not!\")\n",
    "array_equal = np.allclose(array1, array2)\n",
    "print(array_equal)"
   ]
  },
  {
   "cell_type": "markdown",
   "metadata": {},
   "source": [
    "# 8.Create random vector of size 10 and replace the maximum value by 0 "
   ]
  },
  {
   "cell_type": "code",
   "execution_count": 14,
   "metadata": {},
   "outputs": [
    {
     "data": {
      "application/javascript": [
       "\n",
       "        if (window._pyforest_update_imports_cell) { window._pyforest_update_imports_cell('import numpy as np'); }\n",
       "    "
      ],
      "text/plain": [
       "<IPython.core.display.Javascript object>"
      ]
     },
     "metadata": {},
     "output_type": "display_data"
    },
    {
     "name": "stdout",
     "output_type": "stream",
     "text": [
      "[15 14 16 10 17 19 19 16 18  9]\n",
      "[15 14 16 10 17  0 19 16 18  9]\n"
     ]
    }
   ],
   "source": [
    "array1 = np.random.randint(20, size=10)\n",
    "print(array1)\n",
    "array1[array1.argmax()] = 0\n",
    "print(array1)"
   ]
  },
  {
   "cell_type": "markdown",
   "metadata": {},
   "source": [
    "# 9. How to print all the values of an array?"
   ]
  },
  {
   "cell_type": "code",
   "execution_count": 27,
   "metadata": {},
   "outputs": [
    {
     "data": {
      "application/javascript": [
       "\n",
       "        if (window._pyforest_update_imports_cell) { window._pyforest_update_imports_cell('import sys\\nimport numpy as np'); }\n",
       "    "
      ],
      "text/plain": [
       "<IPython.core.display.Javascript object>"
      ]
     },
     "metadata": {},
     "output_type": "display_data"
    },
    {
     "data": {
      "application/javascript": [
       "\n",
       "        if (window._pyforest_update_imports_cell) { window._pyforest_update_imports_cell('import sys\\nimport numpy as np'); }\n",
       "    "
      ],
      "text/plain": [
       "<IPython.core.display.Javascript object>"
      ]
     },
     "metadata": {},
     "output_type": "display_data"
    },
    {
     "data": {
      "application/javascript": [
       "\n",
       "        if (window._pyforest_update_imports_cell) { window._pyforest_update_imports_cell('import sys\\nimport numpy as np'); }\n",
       "    "
      ],
      "text/plain": [
       "<IPython.core.display.Javascript object>"
      ]
     },
     "metadata": {},
     "output_type": "display_data"
    },
    {
     "name": "stdout",
     "output_type": "stream",
     "text": [
      "[0 0 1 1 1 1 1 1 1 0 1 1 0 0 0 1 1 1 1 1 0 0 1 1 1 0 1 1 1 0 0 0 0 1 0 0 0\n",
      " 0 1 0 0 0 0 1 1 1 1 0 0 1 1 1 1 0 1 1 0 1 1 0 0 0 1 1 1 0 1 0 1 0 1 1 1 1\n",
      " 1 0 1 1 0 0 1 1 1 0 0 0 0 1 0 1 0 1 1 0 0 0 1 0 0 0 1 1 1 1 0 1 0 1 1 1 0\n",
      " 1 1 1 0 1 0 1 0 1 0 1 1 0 0 0 0 1 1 0 1 0 0 1 1 0 1 0 1 0 1 0 1 0 1 0 0 1\n",
      " 1 1 0 1 1 1 0 1 0 0 0 1 0 0 0 1 1 0 1 0 0 0 0 0 1 1 1 0 1 0 0 0 1 0 0 1 1\n",
      " 1 0 1 0 1 1 0 0 1 0 0 0 0 0 0 1 1 1 1 0 1 0 1 0 1 1 1 1 1 1 1 0 0 1 1 1 0\n",
      " 1 1 1 0 0 0 0 0 1 0 0 1 1 1 0 0 0 1 0 0 0 1 0 1 0 1 1 0 0 0 1 0 1 0 0 1 1\n",
      " 0 1 0 0 1 1 1 1 0 0 1 0 1 0 1 1 1 1 0 1 1 1 0 0 0 0 1 0 1 0 0 1 1 1 0 1 0\n",
      " 0 0 1 0 0 1 1 1 1 1 0 0 1 1 0 0 0 1 0 1 0 1 1 1 0 0 0 0 1 1 1 0 0 0 0 0 1\n",
      " 0 1 0 0 0 0 1 0 0 1 1 1 0 1 1 1 0 1 0 0 0 1 1 0 1 1 0 0 0 0 0 0 1 1 0 0 1\n",
      " 1 0 0 0 0 0 0 0 0 0 0 0 1 0 1 1 0 0 0 0 1 0 1 1 0 1 0 0 1 0 1 1 1 1 1 1 0\n",
      " 0 0 1 1 0 0 0 0 0 1 0 1 1 0 0 1 1 1 1 1 0 1 1 0 1 1 0 0 1 1 1 0 1 1 1 1 1\n",
      " 0 1 1 1 1 0 1 1 0 0 1 0 0 0 0 0 1 1 1 0 1 0 0 0 1 1 0 1 1 1 1 0 1 1 1 1 0\n",
      " 1 1 0 0 0 1 0 0 0 1 0 1 0 0 1 0 1 0 1 1 1 0 0 0 1 1 1 0 0 0 1 1 0 1 0 0 0\n",
      " 1 1 0 1 1 1 0 0 1 0 1 1 1 0 0 0 1 1 0 0 1 1 1 0 1 1 1 1 0 1 1 0 1 1 0 1 1\n",
      " 1 1 1 0 1 1 1 1 1 0 1 0 0 1 0 1 1 1 0 0 0 1 1 0 1 1 1 1 1 1 1 0 1 1 1 1 0\n",
      " 1 0 1 1 0 1 0 1 0 1 1 1 1 0 0 1 0 1 1 0 1 0 1 1 1 1 1 1 1 0 1 1 1 0 1 1 1\n",
      " 1 1 1 1 0 0 0 0 1 0 1 1 0 1 1 1 0 0 0 0 0 1 0 1 1 0 0 1 1 0 0 1 1 1 0 1 1\n",
      " 1 1 0 0 0 0 0 0 0 0 1 1 1 1 1 1 0 1 0 0 1 0 0 0 1 0 1 0 1 0 0 0 0 0 1 1 0\n",
      " 1 1 0 1 0 0 0 1 0 1 1 1 0 1 1 1 0 0 0 1 1 0 1 0 0 0 1 1 0 0 1 0 1 1 1 1 1\n",
      " 1 1 0 1 0 1 0 0 1 0 1 1 1 0 1 0 0 0 0 0 1 1 1 1 0 0 1 1 1 1 0 0 1 0 0 0 0\n",
      " 1 1 0 0 1 1 1 0 0 0 1 0 1 0 0 1 1 1 1 0 1 1 1 0 1 0 1 0 1 0 0 1 1 0 0 0 0\n",
      " 0 0 0 1 0 0 0 0 0 0 0 1 0 1 1 0 1 1 0 0 1 0 1 0 0 1 1 1 0 1 0 0 0 0 0 0 0\n",
      " 1 0 0 1 1 1 1 1 1 0 0 0 1 0 0 1 0 0 0 1 1 1 0 0 1 0 0 1 0 0 0 1 1 0 0 1 1\n",
      " 1 0 1 1 0 1 0 1 1 0 0 1 0 0 0 0 0 1 1 0 1 0 1 0 0 1 0 1 1 1 0 0 1 0 1 0 0\n",
      " 0 0 0 1 1 0 1 1 0 0 0 0 0 1 1 0 0 1 0 1 1 1 1 1 0 1 0 1 0 0 0 1 0 0 1 1 1\n",
      " 1 1 0 1 0 0 0 1 0 0 0 1 1 1 1 1 1 0 1 1 0 0 1 0 0 0 0 1 1 0 1 1 1 0 0 1 1\n",
      " 1 1 0 0 1 0 1 1 1 0 0 1 0 0 0 0 0 1 1 0 0 1 0 1 0 1 0 0 1 0 1 1 1 0 0 1 1\n",
      " 0 0 1 1 1 1 1 1 1 0 1 0 1 0 0 0 0 1 0 1 0 0 1 0 1 0 0 1 0 1 1 1 0 1 0 1 1\n",
      " 0 0 0 0 0 1 1 0 1 0 1 1 0 1 1 1 1 1 1 1 1 1 0 1 0 0 1 0 0 1 0 0 1 1 1 0 0\n",
      " 0 1 0 0 1 0 0 1 1 1 1 1 0 1 1 1 0 1 1 1 1 1 0 1 1 0 1 1 0 0 0 1 1 0 0 1 1\n",
      " 0 0 0 1 0 1 0 1 0 1 0 1 1 0 1 0 0 0 1 1 1 1 0 1 1 0 1 1 1 0 0 1 1 1 0 1 1\n",
      " 0 0 0 0 1 0 0 0 1 1 0 0 1 0 0 1 1 0 0 0 0 0 1 1 1 0 0 0 1 1 1 1 0 0 0 0 0\n",
      " 1 1 1 0 0 1 1 0 1 0 0 1 0 1 1 0 1 0 0 0 0 0 1 0 0 1 1 1 0 1 1 1 0 1 1 0 1\n",
      " 0 1 0 0 0 1 1 1 0 0 1 1 1 0 1 1 1 1 1 1 0 1 1 1 0 1 1 0 0 1 0 0 1 1 1 0 1\n",
      " 1 0 1 1 1 0 1 1 1 0 0 1 1 0 0 0 1 0 0 1 0 0 1 1 1 0 1 1 1 1 0 1 0 1 0 1 1\n",
      " 0 1 0 1 0 1 1 0 1 0 0 0 1 1 0 1 1 0 1 0 1 1 1 1 0 1 0 0 0 0 0 0 1 1 1 0 0\n",
      " 1 0 0 1 1 1 0 0 0 0 0 1 0 0 1 0 0 0 0 0 0 1 1 1 0 0 1 0 1 0 1 0 1 0 0 0 0\n",
      " 1 1 1 1 0 1 1 0 1 1 0 0 1 0 0 1 0 1 0 0 1 0 1 0 1 0 0 0 0 0 0 0 0 0 0 0 1\n",
      " 1 0 1 1 0 1 1 0 1 1 1 1 1 1 1 1 1 1 0 1 0 1 0 1 0 1 0 1 0 0 1 1 0 0 0 0 1\n",
      " 0 1 1 0 1 0 0 0 1 0 1 0 1 1 0 1 1 1 1 1 1 0 0 0 1 0 1 0 1 1 0 1 0 0 0 1 0\n",
      " 0 1 1 0 1 0 1 0 0 1 1 1 0 0 0 0 1 1 1 0 1 1 1 1 1 1 1 1 0 0 1 0 1 0 0 1 0\n",
      " 0 1 0 1 1 0 0 1 0 1 1 0 1 0 1 1 1 0 1 0 0 1 0 1 1 0 1 1 1 1 1 0 1 0 1 0 0\n",
      " 0 0 0 0 0 0 1 1 0 1 1 0 1 0 1 0 0 1 0 1 1 1 1 1 0 1 0 0 1 0 1 0 1 1 0 0 1\n",
      " 1 0 0 1 1 0 1 0 1 0 1 0 0 0 1 1 1 0 0 1 1 1 0 0 1 0 0 0 1 0 0 0 1 1 1 0 1\n",
      " 1 1 1 0 1 1 1 0 0 0 0 0 0 1 1 1 1 0 0 1 1 0 0 1 1 0 1 1 1 0 0 1 1 1 0 1 1\n",
      " 1 0 0 0 1 0 0 1 1 0 0 1 0 0 1 0 0 1 0 0 0 0 1 0 0 1 1 1 0 0 0 0 0 0 0 0 0\n",
      " 0 1 1 0 0 0 0 1 1 0 0 0 1 1 1 1 1 0 1 0 1 0 0 1 1 0 0 0 0 0 0 0 0 1 1 1 0\n",
      " 0 0 0 1 1 1 1 1 1 1 1 1 1 0 1 1 0 1 0 1 0 0 0 1 0 0 0 0 1 0 0 1 0 0 1 0 1\n",
      " 1 1 0 1 0 0 0 0 0 1 0 0 1 0 0 0 0 1 1 1 1 1 0 0 1 1 0 0 0 0 1 0 1 1 1 0 0\n",
      " 0 1 0 1 0 0 0 0 1 0 0 1 0 0 1 0 1 0 1 0 1 0 0 0 1 1 1 0 0 0 1 0 0 0 1 1 1\n",
      " 0 0 0 1 0 0 0 0 0 1 0 0 1 0 0 0 1 0 0 0 0 0 0 1 1 0 0 0 1 1 0 1 0 1 0 0 1\n",
      " 0 1 1 1 1 0 0 1 0 0 1 0 0 1 1 1 1 0 0 0 0 1 1 0 0 1 1 1 1 1 0 0 1 1 1 1 1\n",
      " 0 0 0 1 0 1 1 1 1 0 1 0 1 0 1 1 1 1 1 0 0 1 1 1 1 0 0 0 1 0 0 0 1 0 0 1 0\n",
      " 1 1 0 0 1 1 0 0 1 1 0 0 1 1 0 1 1 0 1 1 1 1 0 0 0 0 0 1 1 0 0 0 0 0 1 1 1\n",
      " 1 0 0 1 0 1 0 0 0 0 1 0 1 0 1 0 1 1 1 1 1 0 0 0 0 1 1 1 0 1 1 0 0 1 0 0 0\n",
      " 0 0 1 0 1 0 1 0 1 1 1 1 1 1 0 1 0 0 0 0 1 0 0 0 1 1 0 0 1 0 0 0 0 1 1 1 1\n",
      " 0 0 0 0 1 1 1 1 0 1 0 1 0 0 1 0 0 0 1 1 1 1 1 1 1 1 1 1 1 0 1 1 1 0 0 0 1\n",
      " 0 0 1 1 0 0 1 1 1 0 0 1 1 0 1 0 1 1 1 1 0 1 0 0 1 1 0 1 0 0 1 0 1 0 0 0 0\n",
      " 0 1 0 0 0 0 0 1 1 0 0 1 1 0 1 1 0 1 0 1 0 1 0 0 1 1 1 1 0 1 0 0 0 0 0 1 0\n",
      " 0 0 1 0 1 0 1 0 0 1 0 0 1 0 0 1 1 0 1 1 0 0 0 0 0 0 0 1 1 0 0 1 0 0 0 1 0\n",
      " 1 1 1 0 1 1 0 0 0 0 0 1 1 1 0 1 0 0 0 0 1 1 0 0 1 1 0 0 0 1 1 1 0 1 0 0 0\n",
      " 0 0 0 0 1 1 1 0 0 0 0 1 1 1 1 0 1 1 0 1 1 0 0 0 1 0 1 0 1 0 0 0 1 0 0 0 1\n",
      " 1 1 1 1 0 0 0 1 0 1 0 0 0 1 1 0 0 0 1 1 1 0 1 1 0 0 1 0 1 0 1 0 0 1 1 1 1\n",
      " 1 1 0 1 1 1 1 0 1 1 0 1 0 1 0 1 1 1 1 1 0 1 1 0 0 0 1 0 0 1 1 1 0 1 0 0 1\n",
      " 1 1 1 0 0 1 1 1 1 1 1 1 1 1 1 0 0 1 0 0 0 0 0 0 1 1 1 1 1 1 1 1 0 0 1 0 1\n",
      " 1 0 0 0 1 0 0 0 1 0 1 1 0 1 1 0 1 0 0 0 1 1 0 0 0 0 1 1 0 0 1 0 0 1 1 0 0\n",
      " 0 1 1 0 0 0 0 0 1 0 1 1 0 1 0 0 1 1 1 1 0 1 0 0 1 1 1 1 0 0 1 1 0 0 0 1 1\n",
      " 1 0 0 1 1 0 1 1 0 0 0 1 0 0 0 1 0 0 0 0 1 1 0 0 1 1 1 0 1 0 0 1 1 1 1 0 1\n",
      " 0 1 1 0 1 1 0 0 0 1 1 1 0 1 1 0 0 0 0 1 0 0 0 1 0 1 1 0 1 1 1 0 1 0 0 0 0\n",
      " 1 0 0 0 0 0 0 1 1 0 1 1 1 0 1 0 1 0 0 0 0 0 1 1 0 1 1 0 1 0 0 0 1 0 1 1 0\n",
      " 0 0 1 0 1 1 0 1 0 0 0 0 0 0 0 1 0 1 0 0 0 1 0 0 0 1 1 0 1 0 1 0 1 0 0 0 0\n",
      " 1 1 0 0 0 1 0 1 0 1 1 1 1 1 0 0 0 1 1 1 0 0 0 1 0 0 0 1 0 0 0 1 1 1 0 1 1\n",
      " 0 0 1 1 0 1 1 0 1 0 1 0 0 1 0 0 0 1 1 0 1 1 0 1 1 0 1 1 1 0 1 0 0 0 1 0 1\n",
      " 1 1 1 0 0 0 1 1 0 1 0 1 1 1 1 0 1 1 1 0 1 0 1 0 0 0 1 0 1 1 0 0 1 1 0 1 0\n",
      " 1 1 1 1 0 0 0 0 0 0 0 0 1 1 0 1 0 1 1 1 0 0 1 1 0 0 0 0 0 0 0 1 0 0 1 1 0\n",
      " 1 0 0 0 1 0 0 0 1 0 1 0 0 0 0 0 1 1 0 0 0 0 0 1 1 0 0 1 1 0 1 1 0 1 1 1 0\n",
      " 1 0 0 1 0 1 1 1 0 1 1 0 0 0 0 1 1 0 1 1 0 1 1 0 0 0 0 1 1 0 1 0 1 1 0 0 0\n",
      " 0 1 0 0 0 1 0 1 1 1 1 1 1 0 1 0 1 1 0 0 1 0 1 1 0 1 1 1 1 1 1 0 0 0 0 0 0\n",
      " 1 1 1 1 1 0 0 0 1 1 0 0 0 0 1 1 0 0 1 0 0 0 1 0 0 0 0 0 0 1 0 0 1 0 1 0 1\n",
      " 1 0 0 0 0 1 0 0 1 1 0 1 1 1 0 0 1 1 1 1 0 1 1 1 1 0 0 1 0 1 0 1 0 1 0 1 0\n",
      " 1 0 0 1 1 0 0 1 1 0 0 0 1 0 1 1 1 1 0 1 1 0 1 0 1 1 1 1 1 0 0 1 0 1 1 0 0\n",
      " 0 0 1 0 1 1 0 0 0 1 1 1 1 0 0 1 1 1 1 1 1 1 1 0 1 0 1 0 1 1 0 1 0 1 0 1 1\n",
      " 0 1 1 1 1 1 0 0 0 1 0 1 1 1 1 0 1 0 0 1 1 0 1 0 0 0 1 1 1 0 1 0 1 0 1 1 0\n",
      " 0 0 1 0 0 1 0 0 0 0 1 0 1 0 0 1 1 1 0 1 1 1 0 0 1 1 0 0 0 1 0 0 0 1 1 1 1\n",
      " 1 0 1 0 0 1 1 1 0 0 1 0 1 1 0 0 1 0 0 1 1 0 1 0 0 1 0 0 1 0 1 1 1 1 1 0 1\n",
      " 0 1 1 1 1 0 1 0 0 1 1 0 0 0 0 0 1 0 1 0 1 0 0 0 1 0 1 0 0 1 1 0 1 0 1 1 0\n",
      " 1 0 0 1 1 0 0 1 0 0 1 1 0 0 0 0 0 0 0 0 0 0 1 0 1 0 1 1 1 0 1 0 1 0 0 1 0\n",
      " 1 1 0 1 1 0 0 0 0 0 0 0 1 1 0 1 1 1 0 1 1 0 1 1 0 1 1 1 1 0 1 1 1 0 1 0 1\n",
      " 1 1 0 0 1 0 0 0 1 1 0 1 1 0 1 0 0 0 0 1 0 1 1 1 0 0 0 0 0 0 0 0 1 1 1 0 1\n",
      " 0 0 1 0 1 0 1 1 1 0 1 1 1 0 0 0 0 1 0 1 0 0 0 1 0 1 1 0 0 0 0 1 0 0 1 0 0\n",
      " 0 0 1 0 1 1 0 0 0 1 1 1 0 0 1 0 0 1 1 0 0 0 0 1 1 1 0 0 0 0 1 0 0 0 1 0 1\n",
      " 1 1 1 0 0 1 1 0 0 1 1 0 0 0 1 1 1 1 0 1 1 1 1 1 1 0 0 0 1 1 1 1 0 0 1 1 0\n",
      " 1 1 0 1 1 0 1 1 1 1 1 0 1 0 1 0 1 1 1 0 1 1 0 1 0 1 0 0 1 0 1 0 1 1 1 1 0\n",
      " 1 0 0 1 0 0 1 0 1 1 0 0 0 0 1 0 1 0 1 1 1 0 0 1 0 1 1 1 1 1 1 0 0 1 0 1 0\n",
      " 0 0 1 1 1 1 1 0 1 1 0 1 1 0 1 1 1 0 1 1 1 1 0 0 0 1 0 1 1 1 0 1 0 0 1 0 0\n",
      " 0 0 0 1 1 0 0 0 1 0 0 1 1 0 1 0 1 0 1 1 0 1 1 1 1 1 1 1 1 0 1 1 0 0 1 1 1\n",
      " 1 0 0 0 1 1 1 0 0 0 1 0 0 0 1 0 1 0 0 1 1 1 0 0 1 1 0 1 0 1 0 1 0 1 1 0 1\n",
      " 0 1 0 1 1 1 1 0 1 1 0 0 1 1 1 1 1 0 1 1 0 1 0 1 0 1 1 0 0 0 0 0 1 1 1 1 0\n",
      " 0 0 1 1 0 1 1 1 0 0 0 0 1 0 0 1 1 0 1 0 0 1 1 1 1 0 1 1 1 0 0 1 0 1 0 1 0\n",
      " 1 0 1 0 0 0 0 1 1 1 0 1 1 0 1 0 1 1 1 0 1 1 1 0 0 1 0 1 1 0 0 1 1 0 1 0 1\n",
      " 1 1 0 0 0 1 1 0 0 1 0 1 1 1 0 1 1 1 1 1 1 1 1 0 0 1 1 0 1 0 0 1 1 0 1 0 0\n",
      " 0 1 0 0 0 1 0 1 0 0 1 0 0 1 0 1 0 1 1 0 0 1 1 0 0 1 0 0 1 0 1 0 0 0 1 1 0\n",
      " 0 0 0 1 0 1 1 1 1 0 0 0 1 1 1 0 0 0 0 1 0 1 0 0 1 1 1 1 1 1 0 1 1 1 1 0 0\n",
      " 1 0 1 1 0 0 1 0 0 0 1 0 0 0 0 0 0 0 0 0 0 1 0 0 1 0 0 0 1 1 0 0 1 1 0 1 0\n",
      " 1 0 1 0 1 0 0 0 1 0 1 1 0 1 1 1 1 1 0 1 1 0 1 0 0 1 0 0 0 0 1 1 0 1 1 0 0\n",
      " 1 0 1 0 0 0 1 1 0 0 1 1 0 1 0 0 1 1 0 1 0 0 0 1 0 0 0 1 0 0 1 0 1 0 1 1 1\n",
      " 1 1 1 1 1 0 0 1 0 1 0 0 0 1 1 1 0 1 1 0 1 0 0 0 0 0 1 1 1 1 1 0 1 0 0 1 1\n",
      " 1 0 1 1 0 1 1 0 0 0 1 0 1 0 0 0 0 0 0 0 1 1 1 0 0 0 1 1 1 1 0 0 1 1 0 0 0\n",
      " 0 1 0 0 0 1 1 1 0 0 0 0 0 1 1 1 0 0 1 0 0 1 1 0 0 0 0 1 0 0 0 0 0 0 0 0 1\n",
      " 1 0 1 1 1 0 0 0 0 0 0 1 1 1 0 1 1 1 0 1 1 0 0 1 0 0 1 0 1 0 0 0 1 0 1 1 1\n",
      " 1 0 1 1 1 0 0 1 1 1 0 1 1 0 0 0 1 1 1 1 0 1 1 1 1 1 0 0 1 1 0 0 0 1 0 1 1\n",
      " 1 1 1 1 1 0 1 1 1 0 1 0 1 0 0 1 0 1 1 1 0 1 1 0 1 1 0 1 1 0 0 0 1 1 1 1 0\n",
      " 0 0 0 0 1 1 1 0 1 0 0 0 0 1 0 0 1 1 0 0 0 0 0 0 0 0 0 0 0 1 0 1 1 0 1 1 0\n",
      " 1 1 0 0 0 1 1 1 0 0 1 0 1 1 1 0 0 0 0 1 1 1 0 1 1 0 0 1 0 1 1 0 0 1 0 0 0\n",
      " 1 0 1 0 0 0 1 1 1 0 0 1 1 1 0 1 1 0 1 0 1 1 1 1 0 0 0 0 1 0 1 1 0 0 0 1 1\n",
      " 0 0 0 1 1 0 0 1 0 0 1 1 1 0 1 1 1 1 1 0 0 0 1 0 1 0 0 1 0 1 1 1 0 1 0 0 0\n",
      " 1 0 1 1 0 1 1 0 0 0 0 0 1 1 1 0 0 1 1 0 1 0 0 1 0 0 1 1 0 1 1 0 0 1 1 0 0\n",
      " 1 1 0 1 0 1 0 0 0 0 1 1 0 0 0 0 0 0 1 0 1 1 0 1 0 0 0 1 0 1 1 1 1 1 1 1 0\n",
      " 0 1 0 1 1 0 0 0 0 0 0 0 1 1 1 1 1 1 0 1 0 0 0 0 1 1 0 0 1 0 0 1 1 1 0 1 0\n",
      " 0 1 0 1 1 1 1 0 1 0 1 0 0 0 0 1 1 0 1 0 1 0 0 0 0 1 0 0 0 0 1 1 1 1 1 0 0\n",
      " 0 1 1 1 0 1 1 1 1 0 0 0 0 1 1 1 0 1 1 0 1 0 0 1 0 0 0 1 1 0 1 1 0 1 1 1 0\n",
      " 0 0 1 1 1 0 0 0 0 1 0 0 0 1 0 1 1 1 0 0 1 1 0 1 0 0 0 0 1 0 0 1 0 0 0 0 1\n",
      " 0 1 1 1 0 0 1 0 1 0 1 0 0 1 0 1 1 0 1 1 1 0 1 1 0 1 0 0 1 1 0 1 0 0 1 1 0\n",
      " 1 0 1 1 1 0 1 1 1 0 0 1 1 0 0 0 0 0 1 1 1 1 0 1 0 1 0 1 0 1 0 0 0 0 0 0 1\n",
      " 0 1 0 0 1 1 1 1 0 1 1 1 0 0 0 0 0 1 0 0 1 0 1 0 0 1 1 0 1 1 1 0 0 1 0 1 1\n",
      " 0 1 0 0 0 0 1 0 1 1 0 1 0 1 0 0 0 1 0 0 0 0 0 0 1 1 0 1 1 0 0 1 1 1 0 0 0\n",
      " 1 1 1 0 0 0 0 1 1 0 0 0 1 1 0 0 1 1 0 0 0 0 0 0 1 0 1 1 0 1 1 1 0 0 0 1 0\n",
      " 0 1 0 1 1 0 0 0 1 1 0 0 0 0 1 1 1 0 1 0 1 1 0 1 1 1 1 0 1 1 0 1 1 1 1 1 0\n",
      " 1 0 1 0 1 1 0 1 0 0 1 0 0 1 0 1 0 0 1 1 1 0 1 1 0 1 0 1 1 1 0 0 1 0 0 0 1\n",
      " 0 1 1 0 0 1 0 0 1 1 1 1 0 1 0 0 0 1 0 1 0 1 1 0 1 1 0 1 1 0 1 1 0 1 0 0 0\n",
      " 0 1 0 0 0 0 0 0 1 1 0 0 0 1 1 0 0 0 0 1 0 0 1 0 0 1 1 0 1 1 0 1 0 1 0 1 0\n",
      " 0 1 0 0 1 0 1 1 1 1 1 0 1 1 0 1 1 0 1 0 1 0 0 0 0 1 0 1 1 0 0 1 0 0 0 0 0\n",
      " 0 0 1 0 1 1 1 0 0 0 1 0 0 0 1 0 0 0 0 1 1 1 0 1 1 1 0 1 1 1 0 0 0 1 0 0 0\n",
      " 1 0 0 1 1 0 0 1 0 1 0 1 1 0 0 1 0 1 0 1 1 0 0 1 1 0 0 0 1 0 0 0 1 1 0 1 1\n",
      " 0 1 1 0 1 0 1 0 1 1 1 0 0 0 1 1 0 0 1 1 1 1 1 0 0 0 1 1 1 0 0 0 0 0 1 0 1\n",
      " 1 1 0 0 1 1 1 0 0 0 1 1 0 0 1 1 0 1 0 0 0 1 0 0 0 1 0 1 0 0 1 0 0 0 0 0 1\n",
      " 0 0 0 1 1 0 0 1 1 1 1 1 1 1 1 0 0 1 0 0 1 1 1 0 0 1 1 1 1 1 0 0 1 1 0 0 1\n",
      " 0 1 0 1 0 0 1 1 0 1 0 0 0 1 1 1 1 1 0 1 0 1 1 1 0 1 0 0 0 0 1 0 0 0 0 1 0\n",
      " 0 0 1 0 1 1 0 1 1 1 0 1 0 0 0 0 1 1 0 0 1 0 1 1 0 0 0 1 1 0 1 0 0 0 0 0 0\n",
      " 1 1 0 1 1 1 0 1 0 0 1 1 0 0 1 1 1 0 0 0 0 0 1 1 1 0 1 0 1 0 0 1 0 1 0 1 1\n",
      " 0 1 1 1 1 1 0 0 0 0 0 0 0 0 1 0 0 1 0 1 0 1 0 1 0 1 1 0 1 1 0 0 1 0 1 0 0\n",
      " 1 0 1 0 0 1 0 1 0 0 0 0 0 1 0 0 1 0 1 0 1 1 0 1 0 0 0 1 1 0 1 0 1 1 0 0 1\n",
      " 0 1 0 1 0 1 1 0 1 0 1 0 1 1 0 0 1 0 0 0 1 0 1 1 1 0 0 0 0 1 1 0 0 1 0 0 1\n",
      " 0 0 1 0 0 0 0 1 1 0 0 1 0 1 1 0 1 1 0 1 1 0 0 1 0 1 0 0 1 1 0 0 0 1 1 1 0\n",
      " 0 0 0 1 0 0 1 0 0 1 0 1 1 0 0 1 0 1 0 1 0 0 1 0 0 1 1 1 1 1 0 1 0 1 0 1 1\n",
      " 1 0 0 1 1 1 0 1 0 1 1 0 0 1 0 0 1 1 0 0 1 0 0 1 0 0 1 1 0 0 0 0 0 0 0 0 0\n",
      " 1 0 0 0 0 0 1 0 1 1 0 1 0 0 0 1 0 1 0 0 0 1 0 1 1 1 1 0 1 1 1 1 1 0 0 0 0\n",
      " 0 0 1 0 1 0 1 0 0 1 0 0 0 1 1 1 1 0 1 0 1 0 0 0 1 1 0 1 0 0 0 1 1 1 0 1 1\n",
      " 1 0 0 1 1 0 0 1 0 0 1 1 0 0 1 1 1 0 0 0 0 0 1 0 1 1 1 0 0 0 0 1 1 1 1 1 1\n",
      " 0 0 0 0 1 1 1 1 0 1 1 1 1 1 1 0 0 1 0 1 1 1 0 0 1 1 0 1 0 0 1 0 1 0 0 0 1\n",
      " 0 0 0 1 1 1 1 0 0 0 1 1 0 0 1 0 0 1 1 0 1 1 0 0 1 1 1 0 0 1 1 1 1 0 1 0 0\n",
      " 0 1 1 0 0 0 0 0 1 1 1 1 1 0 0 0 1 0 0 1 0 1 1 1 0 0 0 0 0 1 0 1 1 1 1 0 1\n",
      " 0 0 1 0 1 0 1 1 0 1 0 0 0 0 0 0 1 0 0 1 1 0 0 1 1 1 0 0 0 1 0 1 1 1 1 0 0\n",
      " 0 1 1 0 1 0 1 1 0 1 0 1 1 1 0 1 1 0 0 1 0 0 1 1 1 0 0 0 1 1 1 1 0 0 0 0 0\n",
      " 1 1 1 0 0 0 1 0 1 1 1 0 0 0 1 1 0 1 1 0 0 1 1 0 1 0 1 1 1 0 1 0 0 1 1 1 1\n",
      " 0 0 1 1 1 0 0 1 0 1 0 0 1 1 0 0 1 0 1 1 0 1 0 1 1 0 0 0 0 1 0 0 0 0 1 1 0\n",
      " 1 1 0 0 1 0 0 1 1 0 0 0 0 1 0 0 0 1 0 0 0 1 0 1 0 1 1 0 1 1 1 0 1 0 0 1 1\n",
      " 1 0 1 1 1 0 0 0 1 1 0 0 1 1 0 1 1 0 0 1 1 0 0 1 1 0 1 1 1 1 1 0 0 1 1 1 1\n",
      " 0 0 0 0 0 0 1 1 0 1 0 1 1 1 0 0 1 0 1 0 0 0 1 1 0 0 1 0 0 0 1 0 0 1 1 0 0\n",
      " 0 1 0 1 1 1 1 0 1 0 1 1 0 0 1 1 1 0 0 1 0 1 1 1 0 0 1 1 0 0 1 0 1 1 0 1 0\n",
      " 0 1 0 1 1 1 1 0 0 0 0 0 1 0 0 0 1 0 1 1 0 1 0 0 1 0 1 0 1 1 1 0 1 0 1 1 1\n",
      " 1 1 1 1 0 1 0 1 0 0 0 1 1 1 0 0 1 1 0 0 1 1 1 0 0 0 0 0 0 1 1 1 1 1 1 1 0\n",
      " 1 1 1 1 1 1 1 0 1 1 0 1 0 1 1 0 0 1 0 0 1 0 0 1 1 1 1 0 0 0 1 0 1 1 0 0 0\n",
      " 0 1 1 0 1 1 0 0 1 1 1 1 1 1 0 1 1 0 0 1 1 1 0 0 1 0 1 0 1 0 0 0 0 0 0 0 0\n",
      " 0 0 1 0 0 1 1 0 0 1 0 0 0 1 1 0 0 0 1 0 1 0 0 0 1 1 0 1 0 0 0 1 0 0 0 0 0\n",
      " 1 1 1 0 1 0 0 1 0 0 0 1 0 0 0 1 0 1 1 1 1 1 0 0 0 0 0 0 1 0 1 0 0 1 0 1 0\n",
      " 1 1 0 0 0 0 1 0 1 0 0 0 0 0 0 1 0 0 1 1 1 1 0 0 0 0 1 0 0 0 1 0 0 0 1 1 1\n",
      " 1 1 1 1 0 0 0 0 0 1 0 1 1 1 0 0 0 1 1 0 1 0 1 1 1 0 1 1 0 0 1 0 0 0 1 1 0\n",
      " 0 0 0 1 1 0 0 1 1 1 0 1 1 1 0 1 0 1 0 0 0 0 1 1 0 0 0 0 0 0 1 1 1 0 0 1 1\n",
      " 0 0 1 0 1 1 1 1 0 0 1 0 1 0 0 1 1 0 0 1 1 0 0 0 1 0 1 1 1 0 1 0 1 1 0 1 0\n",
      " 1 1 0 1 1 1 0 1 0 0 1 0 1 0 1 1 1 0 0 0 0 1 0 0 1 1 0 0 1 1 0 0 1 1 1 1 0\n",
      " 1 1 1 1 1 0 1 1 1 0 1 0 1 1 1 1 1 0 1 0 0 0 1 0 0 0 0 0 1 1 1 0 1 1 0 1 0\n",
      " 1 0 1 0 1 0 0 1 1 0 1 1 0 0 1 1 1 0 0 1 0 0 1 1 1 0 1 0 1 0 1 0 0 1 0 0 1\n",
      " 1 1 0 0 1 1 1 1 0 0 0 0 0 0 1 0 1 0 0 1 0 1 0 0 0 0 0 1 1 1 1 0 0 0 1 0 1\n",
      " 1 0 0 0 1 1 0 0 0 0 1 0 0 1 0 0 0 1 0 0 1 0 1 1 0 1 0 1 1 0 0 0 0 1 0 1 1\n",
      " 1 1 1 1 1 0 1 0 0 0 1 0 1 1 0 0 1 1 0 0 0 0 1 0 1 1 1 1 0 0 0 1 0 0 1 0 0\n",
      " 1 1 0 1 0 1 1 0 0 1 1 0 1 0 0 0 1 0 0 0 0 1 1 0 0 1 0 1 1 1 0 1 1 0 1 1 1\n",
      " 0 0 0 0 1 0 0 0 1 1 0 1 0 1 1 0 1 0 1 0 1 1 0 1 0 1 0 0 0 0 1 0 1 0 0 0 0\n",
      " 1 0 1 0 1 0 0 0 0 0 1 1 1 0 1 1 0 0 1 1 1 0 1 0 0 1 1 0 0 0 1 1 1 0 1 0 1\n",
      " 0 1 0 0 1 0 0 1 1 1 0 1 1 0 1 1 0 0 0 1 1 1 0 0 1 0 0 1 1 0 0 0 1 1 0 1 1\n",
      " 1 1 0 0 1 1 1 1 1 0 1 0 0 1 0 0 0 1 1 0 0 0 1 1 1 1 0 1 0 0 0 1 0 1 0 0 0\n",
      " 1 0 1 0 0 0 1 0 0 0 1 0 1 0 1 0 0 1 0 1 1 1 1 1 0 1 0 1 1 0 1 0 0 1 0 1 0\n",
      " 1 0 1 0 1 1 1 1 0 0 0 0 0 0 0 1 0 0 0 1 1 0 1 0 0 1 0 1 1 0 1 0 1 1 1 0 1\n",
      " 1 0 1 0 0 0 0 1 0 1 1 0 1 0 0 1 1 1 0 1 1 1 0 0 1 1 0 0 0 1 0 1 1 1 0 1 0\n",
      " 1 1 0 1 1 0 1 1 0 0 0 1 1 1 1 0 0 0 0 1 0 0 1 0 1 1 1 0 0 0 1 0 0 0 1 0 1\n",
      " 0 1 1 1 0 1 0 1 1 1 0 1 1 0 1 1 0 1 0 1 0 0 0 0 1 0 1 1 0 1 0 1 0 0 1 1 1\n",
      " 1 1 0 0 0 1 0 1 1 0 0 1 0 0 0 0 0 1 1 1 0 1 0 0 0 1 1 1 0 1 1 0 0 1 0 1 1\n",
      " 1 0 0 1 0 1 1 0 1 0 1 0 1 0 0 0 1 1 0 0 0 1 0 1 1 0 0 0 0 0 1 0 0 1 1 0 0\n",
      " 1 1 1 1 1 1 1 0 1 1 0 0 0 1 1 1 1 0 1 1 1 1 1 1 1 0 0 1 0 1 0 0 1 0 0 1 0\n",
      " 1 1 1 1 1 1 1 0 1 0 1 0 1 1 1 1 1 0 1 1 0 1 1 1 1 0 1 0 0 0 1 1 0 1 0 0 0\n",
      " 1 1 1 0 0 0 1 0 1 1 1 1 0 1 1 0 0 0 0 0 0 1 1 1 0 0 1 1 1 0 0 1 0 1 0 1 1\n",
      " 1 0 0 0 0 1 1 0 1 0 0 0 1 1 0 1 1 0 1 0 0 1 1 1 0 1 0 1 1 1 0 1 0 0 1 0 1\n",
      " 0 1 1 0 1 0 1 0 1 1 0 0 0 0 0 0 0 0 1 1 0 0 1 1 0 0 1 1 0 0 1 1 0 1 0 0 1\n",
      " 1 0 0 1 1 1 1 0 0 0 0 1 0 0 0 1 1 1 1 0 0 0 0 0 1 0 0 1 1 1 0 0 0 1 0 0 1\n",
      " 1 1 1 1 1 0 1 1 1 1 1 1 0 0 0 1 0 0 0 0 1 0 0 1 1 1 0 1 1 0 0 1 1 1 0 1 1\n",
      " 1 1 0 1 0 0 0 1 1 1 0 1 0 1 0 1 1 0 0 1 1 1 0 0 1 0 1 1 0 0 1 1 1 0 1 0 0\n",
      " 1 1 0 1 1 1 1 1 0 1 0 1 0 0 1 0 1 1 0 0 1 1 1 1 1 0 0 0 0 0 1 1 0 0 0 1 1\n",
      " 0 0 0 0 1 1 0 0 0 1 1 1 0 1 0 0 0 1 1 1 1 0 0 1 0 0 0 1 0 1 1 1 1 0 1 0 1\n",
      " 1 0 0 1 0 1 1 0 1 1 1 0 0 1 0 1 1 1 0 1 1 0 0 0 0 1 1 1 1 1 1 1 0 1 1 1 0\n",
      " 1 0 0 0 1 0 0 1 1 1 0 1 0 1 0 0 0 0 0 0 0 0 0 0 1 0 1 1 0 1 0 1 1 1 0 1 1\n",
      " 0 1 0 0 0 1 1 1 0 1 0 0 1 0 0 0 1 0 0 0 0 0 0 1 0 0 0 1 0 0 1 1 0 0 0 0 0\n",
      " 0 0 1 0 1 1 0 1 0 1 0 1 1 1 1 1 1 0 1 1 1 1 0 1 1 1 0 1 1 0 1 0 0 1 0 1 0\n",
      " 1 0 0 1 1 1 0 1 0 0 1 0 1 0 0 1 1 0 1 1 1 0 0 0 1 0 1 0 0 1 1 1 1 0 0 0 1\n",
      " 0 0 0 1 1 0 0 0 0 1 0 0 1 1 1 0 0 0 0 1 0 1 1 0 0 0 1 1 0 0 1 0 1 0 1 1 0\n",
      " 0 0 0 1 1 1 0 0 1 0 0 1 1 1 1 0 0 0 0 1 0 1 1 0 0 1 1 0 1 1 0 0 0 0 0 0 1\n",
      " 0 1 0 0 1 0 0 0 1 1 1 1 0 1 1 1 1 1 1 1 1 1 1 1 1 0 1 0 1 0 0 1 1 1 1 1 0\n",
      " 0 0 0 1 0 0 1 1 1 0 1 1 0 1 0 0 1 0 0 0 1 0 1 0 1 1 1 1 1 1 0 0 0 1 1 0 1\n",
      " 1 0 0 0 0 0 0 1 1 0 1 1 1 1 1 1 1 0 1 1 1 0 0 0 1 1 0 0 1 1 1 1 1 0 0 0 1\n",
      " 1 1 0 0 0 0 0 0 0 0 1 0 0 1 1 1 1 0 1 0 0 0 0 1 0 0 0 0 0 1 0 0 1 1 1 1 0\n",
      " 0 1 1 1 1 0 1 0 1 1 0 0 0 0 0 1 1 0 0 1 1 1 1 1 1 1 0 1 0 1 0 0 0 1 0 1 0\n",
      " 0 0 0 1 1 1 0 0 0 1 0 1 1 0 0 1 1 1 0 0 0 1 1 0 1 1 1 0 1 1 0 1 0 0 0 0 1\n",
      " 0 1 0 1 1 1 1 1 1 0 0 1 1 0 1 0 1 0 1 1 1 1 1 0 0 0 0 1 1 0 1 1 1 0 0 1 0\n",
      " 1 1 0 0 0 0 0 1 0 0 0 0 0 0 1 0 0 0 1 0 1 1 1 0 1 1 0 0 0 1 0 0 0 0 1 0 1\n",
      " 0 0 0 1 0 1 0 1 1 0 0 0 1 1 1 1 0 0 1 0 1 0 0 1 1 0 0 1 0 1 1 0 0 0 1 1 1\n",
      " 0 1 1 1 1 0 1 1 0 0 1 1 1 1 1 1 1 0 0 1 1 1 0 1 1 1 0 0 1 0 0 0 1 1 1 1 1\n",
      " 0 0 1 0 1 0 1 0 0 0 1 0 1 1 1 0 0 1 1 1 1 1 0 1 0 1 0 1 1 1 1 1 1 0 1 0 0\n",
      " 1 1 0 0 1 0 1 1 0 1 0 0 0 0 1 1 1 1 1 1 0 0 1 0 1 1 1 0 1 1 1 0 0 1 0 0 0\n",
      " 1 1 1 0 0 1 1 1 1 1 1 1 1 1 1 1 1 0 1 0 1 0 1 0 0 0 0 1 1 0 0 0 0 1 1 1 0\n",
      " 0 1 0 0 1 1 0 0 1 0 0 0 0 1 0 1 1 0 0 1 0 0 1 0 1 0 0 1 1 1 0 1 0 1 1 1 1\n",
      " 1 1 1 0 1 1 0 0 1 1 0 1 1 1 0 0 1 1 1 1 0 0 0 1 0 0 0 0 1 1 0 1 0 1 1 0 0\n",
      " 1 0 1 1 1 1 1 1 0 1 0 1 0 1 0 1 1 0 0 1 0 0 1 0 0 0 1 1 0 0 0 1 0 1 0 0 1\n",
      " 1 1 1 0 1 0 1 0 0 1 0 0 0 1 0 1 1 1 1 0 0 0 0 0 1 0 1 1 0 0 1 0 0 1 0 1 1\n",
      " 0 1 0 0 1 0 0 0 0 1 0 1 0 0 0 0 1 1 1 0 1 1 1 1 0 1 1 0 0 0 1 1 1 1 1 1 0\n",
      " 0 1 1 0 1 1 0 0 1 1 1 0 1 1 0 1 0 1 1 0 1 0 1 1 1 0 1 1 1 0 0 0 0 1 1 1 1\n",
      " 0 1 0 0 0 1 1 0 0 1 0 1 1 0 1 1 1 0 0 0 0 0 0 0 1 1 0 1 1 1 0 1 1 0 0 1 1\n",
      " 0 0 0 1 1 1 1 0 0 1 1 1 1 0 0 0 0 0 0 0 0 1 0 0 0 0 0 0 0 1 1 0 0 1 0 0 1\n",
      " 1 0 0 1 1 0 1 0 1 1 0 0 1 0 0 0 1 1 1 0 1 1 0 1 0 1 0 0 0 1 1 0 1 0 1 0 1\n",
      " 1 0 0 0 0 1 0 1 1 0 0 1 0 0 0 0 0 1 0 0 0 1 1 0 1 0 1 0 0 1 1 0 0 1 1 1 1\n",
      " 1 1 1 0 0 1 0 1 0 0 1 1 0 0 0 0 1 1 1 0 1 1 1 0 0 1 0 1 0 1 1 0 1 1 1 0 0\n",
      " 1 1 1 0 0 1 1 1 0 0 0 1 0 0 1 0 1 1 0 1 0 0 1 1 1 1 1 1 0 1 0 1 0 0 1 0 1\n",
      " 0 1 1 1 1 0 1 1 1 0 0 1 0 1 0 1 0 1 0 0 0 1 0 1 1 0 1 1 1 0 1 1 0 0 0 0 0\n",
      " 1 0 0 1 0 0 1 1 0 0 0 1 1 1 0 0 1 0 1 1 0 0 1 0 1 0 0 1 0 0 0 1 0 1 0 0 1\n",
      " 0 1 0 0 0 1 0 1 0 0 0 1 1 0 0 0 0 1 1 1 1 0 0 0 1 0 0 1 0 0 0 1 0 0 1 0 0\n",
      " 1 1 0 1 1 1 0 0 1 0 1 1 1 1 0 0 1 0 0 1 1 1 0 0 0 1 0 1 0 1 0 1 0 1 1 1 1\n",
      " 1 1 1 1 1 0 0 1 0 1 1 1 0 0 0 1 1 0 0 1 0 1 0 1 1 1 0 0 1 1 0 1 1 0 1 0 1\n",
      " 0 1 0 0 1 1 1 1 1 1 0 0 1 0 0 1 0 0 1 1 1 1 1 0 1 0 0 0 1 0 1 0 0 1 1 1 0\n",
      " 0 1 0 0 0 0 1 0 1 1 1 1 0 1 1 1 1 1 0 0 0 1 0 0 1 1 0 1 1 1 0 1 1 0 1 1 0\n",
      " 1 1 1 0 0 1 1 1 1 1 1 0 0 1 1 0 1 0 1 0 0 0 0 0 0 0 1 1 0 1 1 0 0 0 0 0 0\n",
      " 1 0 0 1 1 0 0 0 0 0 1 0 1 0 1 1 0 0 0 0 0 1 1 1 0 0 1 1 1 0 1 0 1 0 1 0 1\n",
      " 1 1 0 1 0 1 1 0 1 0 1 1 1 1 1 1 1 1 0 0 1 0 1 1 0 1 0 1 0 1 1 1 1 1 0 1 1\n",
      " 1 1 1 1 1 0 0 0 0 1 0 1 0 1 0 0 0 0 0 1 1 0 1 1 1 0 0 1 1 1 0 1 1 1 1 0 0\n",
      " 0 0 0 1 0 0 1 0 1 1 1 1 1 0 0 0 0 1 0 1 1 0 1 1 1 1 0 1 0 0 0 0 0 1 1 0 0\n",
      " 1 1 1 0 1 1 1 0 0 1 0 1 1 1 0 1 1 1 0 1 0 0 1 1 0 1 1 1 1 0 1 0 1 0 0 0 0\n",
      " 0 1 1 0 1 1 0 0 1 0 0 1 1 0 0 0 0 0 1 1 1 0 1 0 0 0 0 0 1 0 0 1 1 0 0 1 0\n",
      " 1 1 1 1 0 0 1 1 1 0 1 1 1 1 0 0 0 0 0 1 1 0 1 1 0 1 0 0 0 1 1 1 0 1 1 1 0\n",
      " 1 0 1 0 0 0 0 1 1 0 1 1 0 1 1 1 0 1 0 1 0 0 1 1 0 0 1 0 1 1 0 1 1 0 0 1 0\n",
      " 0 0 1 1 0 0 1 1 0 0 0 1 1 1 1 1 1 0 1 0 0 1 0 1 0 0 0 1 1 1 0 0 1 1 0 1 0\n",
      " 1 1 1 1 0 0 1 0 1 1 1 1 0 1 0 1 0 0 1 1 1 1 0 1 1 1 1 1 0 0 0 0 0 0 1 0 0\n",
      " 1 0 1 0 0 0 1 1 1 0 0 0 1 1 1 0 1 0 1 0 1 1 1 0 1 0 1 0 0 1 0 1 0 1 0 1 0\n",
      " 1 1 1 1 1 0 1 1 0 0 0 1 0 1 1 0 0 1 0 1 0 0 0 1 0 1 0 1 0 1 0 1 1 1 1 0 1\n",
      " 0 1 1 1 1 0 1 1 0 0 1 1 0 0 0 0 0 0 0 0 0 0 0 1 1 1 0 0 0 0 1 1 0 0 1 0 1\n",
      " 0 0 1 1 0 1 0 0 0 0 0 1 0 0 0 0 1 1 1 0 0 1 1 1 1 1 1 1 0 0 0 0 0 1 1 0 0\n",
      " 1 0 1 0 1 0 0 1 0 0 0 0 1 0 1 1 0 1 1 1 0 1 0 0 1 1 0 0 1 1 0 0 0 0 0 0 1\n",
      " 0 0 1 1 0 1 0 0 0 0 1 1 1 0 0 0 0 0 1 1 1 0 0 0 0 0 1 1 0 1 0 0 1 1 0 1 1\n",
      " 0 1 1 0 0 1 1 1 1 1 1 1 0 0 1 1 0 0 0 1 0 1 0 1 1 0 1 0 1 0 0 1 0 1 0 1 0\n",
      " 1 1 0 1 1 1 0 1 0 1 0 1 1 0 0 1 1 1 0 1 0 1 1 1 0 1 0 1 1 0 1 1 1 0 1 1 1\n",
      " 0 1 0 0 1 1 1 0 1 0 1 0 1 1 0 0 1 0 1 0 1 1 0 0 0 0 0 0 1 0 1 0 0 0 1 0 1\n",
      " 0 1 0 0 0 1 1 1 1 0 0 1 1 1 1 1 1 1 0 1 1 1 0 1 0 0 1 0 0 0 0 1 1 0 0 0 1\n",
      " 0 0 0 0 1 1 1 1 1 0 1 0 1 0 0 1 0 0 0 0 1 0 0 0 0 1 0 0 0 1 1 1 0 1 0 0 0\n",
      " 1 1 1 0 1 1 1 1 1 0 1 1 0 0 0 0 1 1 0 1 0 0 1 0 0 1 0 0 1 1 0 1 1 1 0 0 0\n",
      " 1 1 1 1 0 0 0 0 0 1 1 1 1 0 0 0 0 1 0 1 0 1 1 0 1 1 1 1 0 0 1 1 1 1 1 1 0\n",
      " 1 1 0 1 0 1 0 0 1 1 0 1 1 1 0 0 0 0 1 0 1 1 0 1 1 1 0 0 0 0 0 0 0 1 0 1 0\n",
      " 1 1 0 0 0 1 0 0 0 1 1 1 0 0 1 0 0 1 1 1 1 1 1 0 1 1 0 0 0 0 0 1 1 1 1 1 0\n",
      " 0 0 0 0 1 1 0 0 1 1 1 0 0 0 1 0 0 0 0 0 1 1 0 0 1 0 1 0 0 1 0 1 1 0 1 1 0\n",
      " 1 1 1 0 0 0 0 0 1 0 1 0 1 0 0 0 0 0 1 1 1 0 1 1 1 0 0 0 1 1 1 1 1 1 0 1 0\n",
      " 1 0 0 1 1 0 0 1 1 0 1 0 1 1 0 1 1 1 1 0 1 1 1 1 0 1 1 1 0 0 0 1 0 1 1 0 0\n",
      " 0 1 1 1 0 0 1 0 1 0 0 0 0 1 1 0 1 0 1 1 1 0 1 1 0 1 1 0 0 1 1 1 1 0 1 1 1\n",
      " 1 1 0 0 0 0 1 0 0 0 0 0 1 1 0 0 1 0 1 0 0 0 0 1 1 1 0 0 0 0 1 0 1 0 0 0 0\n",
      " 1 1 0 1 0 1 0 1 0 0 0 1 1 0 0 1 1 0 0 0 1 0 1 1 1 0 0 1 1 0 1 0 0 1 1 1 1\n",
      " 1 0 1 0 1 1 0 0 1]\n"
     ]
    }
   ],
   "source": [
    "my_array = np.random.randint(2, size=9999)\n",
    "np. set_printoptions(threshold=np. inf)\n",
    "print(my_array)"
   ]
  },
  {
   "cell_type": "markdown",
   "metadata": {},
   "source": [
    "# 10.Subtract the mean of each row of a matrix"
   ]
  },
  {
   "cell_type": "code",
   "execution_count": 36,
   "metadata": {},
   "outputs": [
    {
     "data": {
      "application/javascript": [
       "\n",
       "        if (window._pyforest_update_imports_cell) { window._pyforest_update_imports_cell('import sys\\nimport numpy as np'); }\n",
       "    "
      ],
      "text/plain": [
       "<IPython.core.display.Javascript object>"
      ]
     },
     "metadata": {},
     "output_type": "display_data"
    },
    {
     "name": "stdout",
     "output_type": "stream",
     "text": [
      "[[0.01207224 0.90538968 0.49786992 0.86989681 0.06230767]\n",
      " [0.90480761 0.36041182 0.55755197 0.86666328 0.10010166]\n",
      " [0.57939292 0.73105152 0.88778025 0.04396813 0.83681216]\n",
      " [0.50083196 0.24407349 0.31696982 0.98873267 0.44265359]\n",
      " [0.61295526 0.49348773 0.80043707 0.66588321 0.39271888]]\n",
      "\n",
      " [[-4.57435028e-01  4.35882417e-01  2.83626566e-02  4.00389544e-01\n",
      "  -4.07199590e-01]\n",
      " [ 3.46900347e-01 -1.97495450e-01 -3.55299744e-04  3.08756010e-01\n",
      "  -4.57805607e-01]\n",
      " [-3.64080702e-02  1.15250527e-01  2.71979251e-01 -5.71832869e-01\n",
      "   2.21011161e-01]\n",
      " [ 2.17965629e-03 -2.54578814e-01 -1.81682487e-01  4.90080361e-01\n",
      "  -5.59987154e-02]\n",
      " [ 1.98588334e-02 -9.96087050e-02  2.07340640e-01  7.27867777e-02\n",
      "  -2.00377546e-01]]\n"
     ]
    }
   ],
   "source": [
    "X = np.random.rand(5,5)\n",
    "print(X)\n",
    "Y = X - X.mean(axis=1, keepdims=True)\n",
    "\n",
    "print(\"\\n\",Y)"
   ]
  },
  {
   "cell_type": "markdown",
   "metadata": {},
   "source": [
    "# 11.Consider a given vector, how to add 1 to each element indexed by a second vector (be careful with repeated indices)? "
   ]
  },
  {
   "cell_type": "code",
   "execution_count": 41,
   "metadata": {},
   "outputs": [
    {
     "data": {
      "application/javascript": [
       "\n",
       "        if (window._pyforest_update_imports_cell) { window._pyforest_update_imports_cell('import sys\\nimport numpy as np'); }\n",
       "    "
      ],
      "text/plain": [
       "<IPython.core.display.Javascript object>"
      ]
     },
     "metadata": {},
     "output_type": "display_data"
    },
    {
     "name": "stdout",
     "output_type": "stream",
     "text": [
      "[1 4 3 3 3 0 1 4 0 3]\n"
     ]
    },
    {
     "data": {
      "application/javascript": [
       "\n",
       "        if (window._pyforest_update_imports_cell) { window._pyforest_update_imports_cell('import sys\\nimport numpy as np'); }\n",
       "    "
      ],
      "text/plain": [
       "<IPython.core.display.Javascript object>"
      ]
     },
     "metadata": {},
     "output_type": "display_data"
    },
    {
     "name": "stdout",
     "output_type": "stream",
     "text": [
      "[3 3 0 2 3 2 4 2 2 7]\n"
     ]
    }
   ],
   "source": [
    "arr1= np.random.randint(0,5,10)\n",
    "print(arr1)\n",
    "arr2= np.random.randint(0,8,10)\n",
    "print (arr2)"
   ]
  },
  {
   "cell_type": "code",
   "execution_count": 42,
   "metadata": {},
   "outputs": [
    {
     "data": {
      "application/javascript": [
       "\n",
       "        if (window._pyforest_update_imports_cell) { window._pyforest_update_imports_cell('import sys\\nimport numpy as np'); }\n",
       "    "
      ],
      "text/plain": [
       "<IPython.core.display.Javascript object>"
      ]
     },
     "metadata": {},
     "output_type": "display_data"
    },
    {
     "name": "stdout",
     "output_type": "stream",
     "text": [
      "[2 4 7 6 4 0 1 5 0 3]\n"
     ]
    }
   ],
   "source": [
    "arr1 += np.bincount(arr2, minlength=len(arr1))\n",
    "\n",
    "print (arr1)"
   ]
  },
  {
   "cell_type": "markdown",
   "metadata": {},
   "source": [
    "# 12.How to get the diagonal of a dot product?"
   ]
  },
  {
   "cell_type": "code",
   "execution_count": 45,
   "metadata": {},
   "outputs": [
    {
     "data": {
      "application/javascript": [
       "\n",
       "        if (window._pyforest_update_imports_cell) { window._pyforest_update_imports_cell('import sys\\nimport numpy as np'); }\n",
       "    "
      ],
      "text/plain": [
       "<IPython.core.display.Javascript object>"
      ]
     },
     "metadata": {},
     "output_type": "display_data"
    },
    {
     "name": "stdout",
     "output_type": "stream",
     "text": [
      "[[5 5 8]\n",
      " [5 5 0]\n",
      " [4 9 1]]\n"
     ]
    },
    {
     "data": {
      "application/javascript": [
       "\n",
       "        if (window._pyforest_update_imports_cell) { window._pyforest_update_imports_cell('import sys\\nimport numpy as np'); }\n",
       "    "
      ],
      "text/plain": [
       "<IPython.core.display.Javascript object>"
      ]
     },
     "metadata": {},
     "output_type": "display_data"
    },
    {
     "name": "stdout",
     "output_type": "stream",
     "text": [
      "[[5 9 9]\n",
      " [8 7 8]\n",
      " [5 6 8]]\n",
      "Diagonal of a dot product\n"
     ]
    },
    {
     "data": {
      "application/javascript": [
       "\n",
       "        if (window._pyforest_update_imports_cell) { window._pyforest_update_imports_cell('import sys\\nimport numpy as np'); }\n",
       "    "
      ],
      "text/plain": [
       "<IPython.core.display.Javascript object>"
      ]
     },
     "metadata": {},
     "output_type": "display_data"
    },
    {
     "data": {
      "application/javascript": [
       "\n",
       "        if (window._pyforest_update_imports_cell) { window._pyforest_update_imports_cell('import sys\\nimport numpy as np'); }\n",
       "    "
      ],
      "text/plain": [
       "<IPython.core.display.Javascript object>"
      ]
     },
     "metadata": {},
     "output_type": "display_data"
    },
    {
     "name": "stdout",
     "output_type": "stream",
     "text": [
      "[105  80 116]\n"
     ]
    }
   ],
   "source": [
    "x = np.random.randint(0,10,(3,3))\n",
    "print(x)\n",
    "y = np.random.randint(0,10,(3,3))\n",
    "print(y)\n",
    "print(\"Diagonal of a dot product\")\n",
    "print (np.diag(np.dot(x,y)))"
   ]
  },
  {
   "cell_type": "markdown",
   "metadata": {},
   "source": [
    "# 13.How to find the most frequent value in an array?"
   ]
  },
  {
   "cell_type": "code",
   "execution_count": 46,
   "metadata": {},
   "outputs": [
    {
     "data": {
      "application/javascript": [
       "\n",
       "        if (window._pyforest_update_imports_cell) { window._pyforest_update_imports_cell('import sys\\nimport numpy as np'); }\n",
       "    "
      ],
      "text/plain": [
       "<IPython.core.display.Javascript object>"
      ]
     },
     "metadata": {},
     "output_type": "display_data"
    },
    {
     "name": "stdout",
     "output_type": "stream",
     "text": [
      "[7 2 9 9 6 8 6 3 1 1 2 3 1 5 1 2 1 5 4 2 6 4 4 9 5 9 4 4 9 9 6 0 6 5 8 7 4\n",
      " 4 4 8 0 3 8 6 5 6 1 2 5 8]\n"
     ]
    },
    {
     "data": {
      "application/javascript": [
       "\n",
       "        if (window._pyforest_update_imports_cell) { window._pyforest_update_imports_cell('import sys\\nimport numpy as np'); }\n",
       "    "
      ],
      "text/plain": [
       "<IPython.core.display.Javascript object>"
      ]
     },
     "metadata": {},
     "output_type": "display_data"
    },
    {
     "name": "stdout",
     "output_type": "stream",
     "text": [
      "most frequent: 4\n"
     ]
    }
   ],
   "source": [
    "x = np.random.randint(0,10,50)\n",
    "print (x)\n",
    "print('most frequent:', np.bincount(x).argmax())"
   ]
  },
  {
   "cell_type": "markdown",
   "metadata": {},
   "source": [
    "# 14.How to get the n largest values of an array"
   ]
  },
  {
   "cell_type": "code",
   "execution_count": 48,
   "metadata": {},
   "outputs": [
    {
     "data": {
      "application/javascript": [
       "\n",
       "        if (window._pyforest_update_imports_cell) { window._pyforest_update_imports_cell('import sys\\nimport numpy as np'); }\n",
       "    "
      ],
      "text/plain": [
       "<IPython.core.display.Javascript object>"
      ]
     },
     "metadata": {},
     "output_type": "display_data"
    },
    {
     "data": {
      "application/javascript": [
       "\n",
       "        if (window._pyforest_update_imports_cell) { window._pyforest_update_imports_cell('import sys\\nimport numpy as np'); }\n",
       "    "
      ],
      "text/plain": [
       "<IPython.core.display.Javascript object>"
      ]
     },
     "metadata": {},
     "output_type": "display_data"
    },
    {
     "name": "stdout",
     "output_type": "stream",
     "text": [
      "5  Largest values are : \n",
      "\n"
     ]
    },
    {
     "data": {
      "application/javascript": [
       "\n",
       "        if (window._pyforest_update_imports_cell) { window._pyforest_update_imports_cell('import sys\\nimport numpy as np'); }\n",
       "    "
      ],
      "text/plain": [
       "<IPython.core.display.Javascript object>"
      ]
     },
     "metadata": {},
     "output_type": "display_data"
    },
    {
     "name": "stdout",
     "output_type": "stream",
     "text": [
      "[95 96 97 98 99]\n"
     ]
    }
   ],
   "source": [
    "x = np.arange(100)\n",
    "np.random.shuffle(x)\n",
    "n = 5\n",
    "print (n,\" Largest values are : \\n\")\n",
    "print (x[np.argsort(x)[-n:]])"
   ]
  },
  {
   "cell_type": "markdown",
   "metadata": {},
   "source": [
    "# 15.How to create a record array from a regular array?"
   ]
  },
  {
   "cell_type": "code",
   "execution_count": 50,
   "metadata": {},
   "outputs": [
    {
     "data": {
      "application/javascript": [
       "\n",
       "        if (window._pyforest_update_imports_cell) { window._pyforest_update_imports_cell('import sys\\nimport numpy as np'); }\n",
       "    "
      ],
      "text/plain": [
       "<IPython.core.display.Javascript object>"
      ]
     },
     "metadata": {},
     "output_type": "display_data"
    },
    {
     "data": {
      "application/javascript": [
       "\n",
       "        if (window._pyforest_update_imports_cell) { window._pyforest_update_imports_cell('import sys\\nimport numpy as np'); }\n",
       "    "
      ],
      "text/plain": [
       "<IPython.core.display.Javascript object>"
      ]
     },
     "metadata": {},
     "output_type": "display_data"
    },
    {
     "name": "stdout",
     "output_type": "stream",
     "text": [
      "[(b'Hello', 2.5, 3) (b'World', 3.6, 2)]\n"
     ]
    }
   ],
   "source": [
    "x = np.array([(\"Hello\", 2.5, 3),\n",
    "              (\"World\", 3.6, 2)])\n",
    "ra = np.core.records.fromarrays(x.T,\n",
    "                               names='col1, col2, col3',\n",
    "                               formats = 'S8, f8, i8')\n",
    "\n",
    "print (ra)"
   ]
  },
  {
   "cell_type": "code",
   "execution_count": null,
   "metadata": {},
   "outputs": [],
   "source": []
  }
 ],
 "metadata": {
  "kernelspec": {
   "display_name": "Python 3",
   "language": "python",
   "name": "python3"
  },
  "language_info": {
   "codemirror_mode": {
    "name": "ipython",
    "version": 3
   },
   "file_extension": ".py",
   "mimetype": "text/x-python",
   "name": "python",
   "nbconvert_exporter": "python",
   "pygments_lexer": "ipython3",
   "version": "3.7.6"
  }
 },
 "nbformat": 4,
 "nbformat_minor": 2
}
