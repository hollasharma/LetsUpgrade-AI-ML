{
 "cells": [
  {
   "cell_type": "code",
   "execution_count": 1,
   "metadata": {},
   "outputs": [],
   "source": [
    "%matplotlib inline\n",
    "import pandas as pd"
   ]
  },
  {
   "cell_type": "markdown",
   "metadata": {},
   "source": [
    "from IPython.core.display import HTML\n",
    "css = open('style-table.css').read() + open('style-notebook.css').read()\n",
    "HTML('<style>{}</style>'.format(css))"
   ]
  },
  {
   "cell_type": "code",
   "execution_count": 2,
   "metadata": {},
   "outputs": [
    {
     "data": {
      "text/html": [
       "<div>\n",
       "<style scoped>\n",
       "    .dataframe tbody tr th:only-of-type {\n",
       "        vertical-align: middle;\n",
       "    }\n",
       "\n",
       "    .dataframe tbody tr th {\n",
       "        vertical-align: top;\n",
       "    }\n",
       "\n",
       "    .dataframe thead th {\n",
       "        text-align: right;\n",
       "    }\n",
       "</style>\n",
       "<table border=\"1\" class=\"dataframe\">\n",
       "  <thead>\n",
       "    <tr style=\"text-align: right;\">\n",
       "      <th></th>\n",
       "      <th>title</th>\n",
       "      <th>year</th>\n",
       "    </tr>\n",
       "  </thead>\n",
       "  <tbody>\n",
       "    <tr>\n",
       "      <th>0</th>\n",
       "      <td>Tasveer Mere Sanam</td>\n",
       "      <td>1996</td>\n",
       "    </tr>\n",
       "    <tr>\n",
       "      <th>1</th>\n",
       "      <td>Only You</td>\n",
       "      <td>1994</td>\n",
       "    </tr>\n",
       "    <tr>\n",
       "      <th>2</th>\n",
       "      <td>El pueblo del terror</td>\n",
       "      <td>1970</td>\n",
       "    </tr>\n",
       "    <tr>\n",
       "      <th>3</th>\n",
       "      <td>Machine</td>\n",
       "      <td>2007</td>\n",
       "    </tr>\n",
       "    <tr>\n",
       "      <th>4</th>\n",
       "      <td>MARy</td>\n",
       "      <td>2008</td>\n",
       "    </tr>\n",
       "    <tr>\n",
       "      <th>5</th>\n",
       "      <td>Tight Spot</td>\n",
       "      <td>1955</td>\n",
       "    </tr>\n",
       "    <tr>\n",
       "      <th>6</th>\n",
       "      <td>Chocolate (II)</td>\n",
       "      <td>2011</td>\n",
       "    </tr>\n",
       "    <tr>\n",
       "      <th>7</th>\n",
       "      <td>Wang de Shengyan</td>\n",
       "      <td>2012</td>\n",
       "    </tr>\n",
       "    <tr>\n",
       "      <th>8</th>\n",
       "      <td>Bao dao mei ren</td>\n",
       "      <td>1956</td>\n",
       "    </tr>\n",
       "    <tr>\n",
       "      <th>9</th>\n",
       "      <td>A Man Called Nereus</td>\n",
       "      <td>2012</td>\n",
       "    </tr>\n",
       "  </tbody>\n",
       "</table>\n",
       "</div>"
      ],
      "text/plain": [
       "                  title  year\n",
       "0    Tasveer Mere Sanam  1996\n",
       "1              Only You  1994\n",
       "2  El pueblo del terror  1970\n",
       "3               Machine  2007\n",
       "4                  MARy  2008\n",
       "5            Tight Spot  1955\n",
       "6        Chocolate (II)  2011\n",
       "7      Wang de Shengyan  2012\n",
       "8       Bao dao mei ren  1956\n",
       "9   A Man Called Nereus  2012"
      ]
     },
     "execution_count": 2,
     "metadata": {},
     "output_type": "execute_result"
    }
   ],
   "source": [
    "titles = pd.read_csv('titles.csv')\n",
    "cast = pd.read_csv('cast.csv')\n",
    "titles.head(10)"
   ]
  },
  {
   "cell_type": "code",
   "execution_count": 3,
   "metadata": {},
   "outputs": [
    {
     "data": {
      "text/html": [
       "<div>\n",
       "<style scoped>\n",
       "    .dataframe tbody tr th:only-of-type {\n",
       "        vertical-align: middle;\n",
       "    }\n",
       "\n",
       "    .dataframe tbody tr th {\n",
       "        vertical-align: top;\n",
       "    }\n",
       "\n",
       "    .dataframe thead th {\n",
       "        text-align: right;\n",
       "    }\n",
       "</style>\n",
       "<table border=\"1\" class=\"dataframe\">\n",
       "  <thead>\n",
       "    <tr style=\"text-align: right;\">\n",
       "      <th></th>\n",
       "      <th>title</th>\n",
       "      <th>year</th>\n",
       "      <th>name</th>\n",
       "      <th>type</th>\n",
       "      <th>character</th>\n",
       "      <th>n</th>\n",
       "    </tr>\n",
       "  </thead>\n",
       "  <tbody>\n",
       "    <tr>\n",
       "      <th>0</th>\n",
       "      <td>Closet Monster</td>\n",
       "      <td>2015</td>\n",
       "      <td>Buffy #1</td>\n",
       "      <td>actor</td>\n",
       "      <td>Buffy 4</td>\n",
       "      <td>31.0</td>\n",
       "    </tr>\n",
       "    <tr>\n",
       "      <th>1</th>\n",
       "      <td>Suuri illusioni</td>\n",
       "      <td>1985</td>\n",
       "      <td>Homo $</td>\n",
       "      <td>actor</td>\n",
       "      <td>Guests</td>\n",
       "      <td>22.0</td>\n",
       "    </tr>\n",
       "    <tr>\n",
       "      <th>2</th>\n",
       "      <td>Battle of the Sexes</td>\n",
       "      <td>2017</td>\n",
       "      <td>$hutter</td>\n",
       "      <td>actor</td>\n",
       "      <td>Bobby Riggs Fan</td>\n",
       "      <td>10.0</td>\n",
       "    </tr>\n",
       "    <tr>\n",
       "      <th>3</th>\n",
       "      <td>Secret in Their Eyes</td>\n",
       "      <td>2015</td>\n",
       "      <td>$hutter</td>\n",
       "      <td>actor</td>\n",
       "      <td>2002 Dodger Fan</td>\n",
       "      <td>NaN</td>\n",
       "    </tr>\n",
       "    <tr>\n",
       "      <th>4</th>\n",
       "      <td>Steve Jobs</td>\n",
       "      <td>2015</td>\n",
       "      <td>$hutter</td>\n",
       "      <td>actor</td>\n",
       "      <td>1988 Opera House Patron</td>\n",
       "      <td>NaN</td>\n",
       "    </tr>\n",
       "  </tbody>\n",
       "</table>\n",
       "</div>"
      ],
      "text/plain": [
       "                  title  year      name   type                character     n\n",
       "0        Closet Monster  2015  Buffy #1  actor                  Buffy 4  31.0\n",
       "1       Suuri illusioni  1985    Homo $  actor                   Guests  22.0\n",
       "2   Battle of the Sexes  2017   $hutter  actor          Bobby Riggs Fan  10.0\n",
       "3  Secret in Their Eyes  2015   $hutter  actor          2002 Dodger Fan   NaN\n",
       "4            Steve Jobs  2015   $hutter  actor  1988 Opera House Patron   NaN"
      ]
     },
     "execution_count": 3,
     "metadata": {},
     "output_type": "execute_result"
    }
   ],
   "source": [
    "cast.head()"
   ]
  },
  {
   "cell_type": "code",
   "execution_count": 4,
   "metadata": {},
   "outputs": [
    {
     "name": "stdout",
     "output_type": "stream",
     "text": [
      "(244914, 2)\n",
      "No of NaN values in Title Column:  0\n"
     ]
    }
   ],
   "source": [
    "print(titles.shape)\n",
    "print(\"No of NaN values in Title Column: \",titles.title.isnull().sum())\n"
   ]
  },
  {
   "cell_type": "markdown",
   "metadata": {
    "collapsed": true
   },
   "source": [
    "### How many movies are listed in the titles dataframe?"
   ]
  },
  {
   "cell_type": "code",
   "execution_count": 5,
   "metadata": {},
   "outputs": [
    {
     "name": "stdout",
     "output_type": "stream",
     "text": [
      "No of Movies listed in dataframe are:  244914\n"
     ]
    }
   ],
   "source": [
    "# Since No NaN values are present as found in above line\n",
    "print(\"No of Movies listed in dataframe are: \",titles.title.count())"
   ]
  },
  {
   "cell_type": "markdown",
   "metadata": {
    "collapsed": true
   },
   "source": [
    "### What are the earliest two films listed in the titles dataframe?"
   ]
  },
  {
   "cell_type": "code",
   "execution_count": 6,
   "metadata": {},
   "outputs": [
    {
     "name": "stdout",
     "output_type": "stream",
     "text": [
      "Two Earliest films are as below: \n",
      "                 title  year\n",
      "0          Miss Jerry  1894\n",
      "1  The Startled Lover  1898\n"
     ]
    }
   ],
   "source": [
    "titles_sorted = titles.sort_values('year',ascending=True,ignore_index=True)\n",
    "print (\"Two Earliest films are as below: \\n\",titles_sorted.iloc[0:2])"
   ]
  },
  {
   "cell_type": "markdown",
   "metadata": {
    "collapsed": true
   },
   "source": [
    "### How many movies have the title \"Hamlet\"?"
   ]
  },
  {
   "cell_type": "code",
   "execution_count": 7,
   "metadata": {},
   "outputs": [
    {
     "name": "stdout",
     "output_type": "stream",
     "text": [
      "No of Movies having title Hamlet are:  20\n"
     ]
    }
   ],
   "source": [
    "print(\"No of Movies having title Hamlet are: \",titles[titles[\"title\"]== \"Hamlet\"][\"title\"].count())\n"
   ]
  },
  {
   "cell_type": "markdown",
   "metadata": {
    "collapsed": true
   },
   "source": [
    "### How many movies are titled \"North by Northwest\"?"
   ]
  },
  {
   "cell_type": "code",
   "execution_count": 8,
   "metadata": {},
   "outputs": [
    {
     "name": "stdout",
     "output_type": "stream",
     "text": [
      "No of Movies having title Hamlet are:  1\n"
     ]
    }
   ],
   "source": [
    "print(\"No of Movies having title Hamlet are: \",titles[titles[\"title\"]== \"North by Northwest\"][\"title\"].count())\n"
   ]
  },
  {
   "cell_type": "markdown",
   "metadata": {
    "collapsed": true
   },
   "source": [
    "### When was the first movie titled \"Hamlet\" made?"
   ]
  },
  {
   "cell_type": "code",
   "execution_count": 9,
   "metadata": {},
   "outputs": [
    {
     "name": "stdout",
     "output_type": "stream",
     "text": [
      "Year in which first movie titled Hamlet was made in :  1910\n"
     ]
    }
   ],
   "source": [
    "print(\"Year in which first movie titled Hamlet was made in : \",\n",
    "      titles_sorted[titles_sorted[\"title\"]== \"Hamlet\"][\"year\"].iloc[0])"
   ]
  },
  {
   "cell_type": "markdown",
   "metadata": {
    "collapsed": true
   },
   "source": [
    "### List all of the \"Treasure Island\" movies from earliest to most recent."
   ]
  },
  {
   "cell_type": "code",
   "execution_count": 10,
   "metadata": {},
   "outputs": [
    {
     "name": "stdout",
     "output_type": "stream",
     "text": [
      "List all of the  movies from earliest to most recent:\n",
      " 5517      1918\n",
      "7962      1920\n",
      "19991     1934\n",
      "35662     1950\n",
      "70280     1972\n",
      "72265     1973\n",
      "97241     1985\n",
      "128205    1999\n",
      "Name: year, dtype: int64\n"
     ]
    }
   ],
   "source": [
    "print(\"List all of the  movies from earliest to most recent:\\n\",\n",
    "      titles_sorted[titles_sorted[\"title\"]== \"Treasure Island\"][\"year\"])"
   ]
  },
  {
   "cell_type": "markdown",
   "metadata": {
    "collapsed": true
   },
   "source": [
    "### How many movies were made in the year 1950?"
   ]
  },
  {
   "cell_type": "code",
   "execution_count": 11,
   "metadata": {},
   "outputs": [
    {
     "name": "stdout",
     "output_type": "stream",
     "text": [
      "No of Movies made in 1950 :  1113\n"
     ]
    }
   ],
   "source": [
    "print(\"No of Movies made in 1950 : \",titles[titles[\"year\"]== 1950][\"title\"].count())"
   ]
  },
  {
   "cell_type": "markdown",
   "metadata": {
    "collapsed": true
   },
   "source": [
    "### How many movies were made in the year 1960?"
   ]
  },
  {
   "cell_type": "code",
   "execution_count": 12,
   "metadata": {},
   "outputs": [
    {
     "name": "stdout",
     "output_type": "stream",
     "text": [
      "No of Movies made in 1950 :  1549\n"
     ]
    }
   ],
   "source": [
    "print(\"No of Movies made in 1950 : \",titles[titles[\"year\"]== 1960][\"title\"].count())"
   ]
  },
  {
   "cell_type": "markdown",
   "metadata": {
    "collapsed": true
   },
   "source": [
    "### How many movies were made from 1950 through 1959?"
   ]
  },
  {
   "cell_type": "markdown",
   "metadata": {},
   "source": []
  },
  {
   "cell_type": "code",
   "execution_count": 13,
   "metadata": {},
   "outputs": [
    {
     "name": "stdout",
     "output_type": "stream",
     "text": [
      "No of Movies made from 1950 through 1959 :  12934\n"
     ]
    }
   ],
   "source": [
    "print(\"No of Movies made from 1950 through 1959 : \"\n",
    "      ,titles_sorted[(titles_sorted[\"year\"] > 1949) & (titles_sorted[\"year\"] < 1960)][\"title\"].count())"
   ]
  },
  {
   "cell_type": "markdown",
   "metadata": {
    "collapsed": true
   },
   "source": [
    "### In what years has a movie titled \"Batman\" been released?"
   ]
  },
  {
   "cell_type": "code",
   "execution_count": 14,
   "metadata": {},
   "outputs": [
    {
     "name": "stdout",
     "output_type": "stream",
     "text": [
      "List all of the  movies titled Batman:\n",
      " 29485     1943\n",
      "105004    1989\n",
      "Name: year, dtype: int64\n"
     ]
    }
   ],
   "source": [
    "print(\"List all of the  movies titled Batman:\\n\",\n",
    "      titles_sorted[titles_sorted[\"title\"]== \"Batman\"][\"year\"])"
   ]
  },
  {
   "cell_type": "markdown",
   "metadata": {
    "collapsed": true
   },
   "source": [
    "### How many roles were there in the movie \"Inception\"?"
   ]
  },
  {
   "cell_type": "code",
   "execution_count": 15,
   "metadata": {},
   "outputs": [
    {
     "name": "stdout",
     "output_type": "stream",
     "text": [
      "No of roles in Inception Movie :  (78,)\n"
     ]
    }
   ],
   "source": [
    "print(\"No of roles in Inception Movie : \",cast[cast[\"title\"]== \"Inception\"][\"n\"].shape)"
   ]
  },
  {
   "cell_type": "markdown",
   "metadata": {
    "collapsed": true
   },
   "source": [
    "### How many roles in the movie \"Inception\" are NOT ranked by an \"n\" value?"
   ]
  },
  {
   "cell_type": "code",
   "execution_count": 16,
   "metadata": {},
   "outputs": [
    {
     "name": "stdout",
     "output_type": "stream",
     "text": [
      "No of roles in Inception Movie which are not ranked :  27\n"
     ]
    }
   ],
   "source": [
    "print(\"No of roles in Inception Movie which are not ranked : \"\n",
    "      ,cast[cast[\"title\"]== \"Inception\"][\"n\"].isnull().sum())"
   ]
  },
  {
   "cell_type": "markdown",
   "metadata": {
    "collapsed": true
   },
   "source": [
    "### But how many roles in the movie \"Inception\" did receive an \"n\" value?"
   ]
  },
  {
   "cell_type": "code",
   "execution_count": 17,
   "metadata": {},
   "outputs": [
    {
     "name": "stdout",
     "output_type": "stream",
     "text": [
      "No of roles in Inception Movie which are not ranked :  51\n"
     ]
    }
   ],
   "source": [
    "print(\"No of roles in Inception Movie which are not ranked : \"\n",
    "      ,cast[cast[\"title\"]== \"Inception\"][\"n\"].notnull().sum())"
   ]
  },
  {
   "cell_type": "markdown",
   "metadata": {
    "collapsed": true
   },
   "source": [
    "### Display the cast of \"North by Northwest\" in their correct \"n\"-value order, ignoring roles that did not earn a numeric \"n\" value."
   ]
  },
  {
   "cell_type": "code",
   "execution_count": 18,
   "metadata": {},
   "outputs": [],
   "source": [
    "df_NbN = cast[cast[\"title\"]== \"North by Northwest\"].sort_values('n',ascending=True,ignore_index=True)"
   ]
  },
  {
   "cell_type": "code",
   "execution_count": 19,
   "metadata": {},
   "outputs": [
    {
     "name": "stdout",
     "output_type": "stream",
     "text": [
      "Cast who got ranked in ascending order are :\n",
      " 0               Cary Grant\n",
      "1          Eva Marie Saint\n",
      "2              James Mason\n",
      "3      Jessie Royce Landis\n",
      "4           Leo G. Carroll\n",
      "5     Josephine Hutchinson\n",
      "6              Philip Ober\n",
      "7            Martin Landau\n",
      "8            Adam Williams\n",
      "9             Edward Platt\n",
      "10       Robert Ellenstein\n",
      "11            Les Tremayne\n",
      "12         Philip Coolidge\n",
      "13           Patrick McVey\n",
      "14            Edward Binns\n",
      "15               Ken Lynch\n",
      "Name: name, dtype: object\n"
     ]
    }
   ],
   "source": [
    "df_NbN.dropna(inplace=True)\n",
    "print (\"Cast who got ranked in ascending order are :\\n\",df_NbN.name)"
   ]
  },
  {
   "cell_type": "markdown",
   "metadata": {
    "collapsed": true
   },
   "source": [
    "### Display the entire cast, in \"n\"-order, of the 1972 film \"Sleuth\"."
   ]
  },
  {
   "cell_type": "code",
   "execution_count": 20,
   "metadata": {},
   "outputs": [],
   "source": [
    "df_sl = cast[cast[\"title\"]== \"Sleuth\"].sort_values('n',ascending=True,ignore_index=True)"
   ]
  },
  {
   "cell_type": "code",
   "execution_count": 21,
   "metadata": {},
   "outputs": [
    {
     "name": "stdout",
     "output_type": "stream",
     "text": [
      "List of entire cast for 1972 film Sleuth is: \n",
      " 1      Laurence Olivier\n",
      "2         Michael Caine\n",
      "4        Alec Cawthorne\n",
      "6    John (II) Matthews\n",
      "7    Eve (III) Channing\n",
      "8          Teddy Martin\n",
      "Name: name, dtype: object\n"
     ]
    }
   ],
   "source": [
    "print (\"List of entire cast for 1972 film Sleuth is: \\n\",df_sl[df_sl[\"year\"]==1972].name)"
   ]
  },
  {
   "cell_type": "markdown",
   "metadata": {
    "collapsed": true
   },
   "source": [
    "### Now display the entire cast, in \"n\"-order, of the 2007 version of \"Sleuth\"."
   ]
  },
  {
   "cell_type": "code",
   "execution_count": 22,
   "metadata": {},
   "outputs": [
    {
     "name": "stdout",
     "output_type": "stream",
     "text": [
      "List of entire cast for 1972 film Sleuth is: \n",
      " 0           Michael Caine\n",
      "3                Jude Law\n",
      "5           Harold Pinter\n",
      "9         Kenneth Branagh\n",
      "10    Alec (II) Cawthorne\n",
      "11      Eve (II) Channing\n",
      "12      Carmel O'Sullivan\n",
      "Name: name, dtype: object\n"
     ]
    }
   ],
   "source": [
    "print (\"List of entire cast for 1972 film Sleuth is: \\n\",df_sl[df_sl[\"year\"]==2007].name)"
   ]
  },
  {
   "cell_type": "markdown",
   "metadata": {
    "collapsed": true
   },
   "source": [
    "### How many roles were credited in the silent 1921 version of Hamlet?"
   ]
  },
  {
   "cell_type": "code",
   "execution_count": 23,
   "metadata": {},
   "outputs": [],
   "source": [
    "df_ham = cast[cast[\"title\"]== \"Hamlet\"].sort_values('n',ascending=True,ignore_index=True)"
   ]
  },
  {
   "cell_type": "code",
   "execution_count": 24,
   "metadata": {},
   "outputs": [
    {
     "name": "stdout",
     "output_type": "stream",
     "text": [
      "No of roles credited in 1921 version of Hamlet :  9\n"
     ]
    }
   ],
   "source": [
    "print (\"No of roles credited in 1921 version of Hamlet : \",df_ham[df_ham[\"year\"]==1921].name.count())"
   ]
  },
  {
   "cell_type": "markdown",
   "metadata": {
    "collapsed": true
   },
   "source": [
    "### How many roles were credited in Branagh’s 1996 Hamlet?"
   ]
  },
  {
   "cell_type": "code",
   "execution_count": 25,
   "metadata": {},
   "outputs": [
    {
     "name": "stdout",
     "output_type": "stream",
     "text": [
      "No of roles credited in 1996 version of Hamlet :  54\n"
     ]
    }
   ],
   "source": [
    "print (\"No of roles credited in 1996 version of Hamlet : \",df_ham[df_ham[\"year\"]==1996].name.count())"
   ]
  },
  {
   "cell_type": "markdown",
   "metadata": {
    "collapsed": true
   },
   "source": [
    "### How many \"Hamlet\" roles have been listed in all film credits through history?"
   ]
  },
  {
   "cell_type": "code",
   "execution_count": 26,
   "metadata": {},
   "outputs": [
    {
     "name": "stdout",
     "output_type": "stream",
     "text": [
      "No of Roles in all Hamlet movies are :  312\n"
     ]
    }
   ],
   "source": [
    "print (\"No of Roles in all Hamlet movies are : \",len(df_ham.name.unique()))"
   ]
  },
  {
   "cell_type": "markdown",
   "metadata": {
    "collapsed": true
   },
   "source": [
    "### How many people have played an \"Ophelia\"?"
   ]
  },
  {
   "cell_type": "code",
   "execution_count": 27,
   "metadata": {},
   "outputs": [
    {
     "name": "stdout",
     "output_type": "stream",
     "text": [
      "No of people who played Ophelia character are :  115\n"
     ]
    }
   ],
   "source": [
    "print (\"No of people who played Ophelia character are : \",\n",
    "       len(cast[cast[\"character\"]== \"Ophelia\"][\"name\"].unique()))"
   ]
  },
  {
   "cell_type": "markdown",
   "metadata": {
    "collapsed": true
   },
   "source": [
    "### How many people have played a role called \"The Dude\"?"
   ]
  },
  {
   "cell_type": "code",
   "execution_count": 28,
   "metadata": {},
   "outputs": [
    {
     "name": "stdout",
     "output_type": "stream",
     "text": [
      "No of people who played The Dude character are :  19\n"
     ]
    }
   ],
   "source": [
    "print (\"No of people who played The Dude character are : \",\n",
    "       len(cast[cast[\"character\"]== \"The Dude\"][\"name\"].unique()))"
   ]
  },
  {
   "cell_type": "markdown",
   "metadata": {
    "collapsed": true
   },
   "source": [
    "### How many people have played a role called \"The Stranger\"?"
   ]
  },
  {
   "cell_type": "code",
   "execution_count": 29,
   "metadata": {},
   "outputs": [
    {
     "name": "stdout",
     "output_type": "stream",
     "text": [
      "No of people who played The Stranger character are :  202\n"
     ]
    }
   ],
   "source": [
    "print (\"No of people who played The Stranger character are : \",\n",
    "       len(cast[cast[\"character\"]== \"The Stranger\"][\"name\"].unique()))"
   ]
  },
  {
   "cell_type": "markdown",
   "metadata": {
    "collapsed": true
   },
   "source": [
    "### How many roles has Sidney Poitier played throughout his career?"
   ]
  },
  {
   "cell_type": "code",
   "execution_count": 30,
   "metadata": {},
   "outputs": [
    {
     "name": "stdout",
     "output_type": "stream",
     "text": [
      "No of roles played by Sidney Poitier throughout his career :  41\n"
     ]
    }
   ],
   "source": [
    "print (\"No of roles played by Sidney Poitier throughout his career : \",\n",
    "       len(cast[cast[\"name\"]== \"Sidney Poitier\"][\"character\"].unique()))"
   ]
  },
  {
   "cell_type": "markdown",
   "metadata": {
    "collapsed": true
   },
   "source": [
    "### How many roles has Judi Dench played?"
   ]
  },
  {
   "cell_type": "code",
   "execution_count": 31,
   "metadata": {},
   "outputs": [
    {
     "name": "stdout",
     "output_type": "stream",
     "text": [
      "No of roles played by Judi Dench throughout his career :  46\n"
     ]
    }
   ],
   "source": [
    "print (\"No of roles played by Judi Dench throughout his career : \",\n",
    "       len(cast[cast[\"name\"]== \"Judi Dench\"][\"character\"].unique()))"
   ]
  },
  {
   "cell_type": "markdown",
   "metadata": {
    "collapsed": true
   },
   "source": [
    "### List the supporting roles (having n=2) played by Cary Grant in the 1940s, in order by year."
   ]
  },
  {
   "cell_type": "code",
   "execution_count": 32,
   "metadata": {},
   "outputs": [
    {
     "name": "stdout",
     "output_type": "stream",
     "text": [
      "List of supporting roles having n=2 in 1940s are:\n",
      " 0     Nick Arden\n",
      "1    Roger Adams\n",
      "Name: character, dtype: object\n"
     ]
    }
   ],
   "source": [
    "print(\"List of supporting roles having n=2 in 1940s are:\\n\"\n",
    "      ,cast[(cast[\"year\"] > 1939) & \n",
    "     (cast[\"year\"] < 1950) & (cast[\"name\"] == \"Cary Grant\") & \n",
    "     (cast[\"n\"] == 2.0)].sort_values('year',ascending=True,ignore_index=True).character)\n",
    "      "
   ]
  },
  {
   "cell_type": "markdown",
   "metadata": {
    "collapsed": true
   },
   "source": [
    "### List the leading roles that Cary Grant played in the 1940s in order by year."
   ]
  },
  {
   "cell_type": "code",
   "execution_count": 33,
   "metadata": {},
   "outputs": [
    {
     "name": "stdout",
     "output_type": "stream",
     "text": [
      "List of leading roles having n=1 in 1940s are:\n",
      " 0                              Matt Howard\n",
      "1                             Walter Burns\n",
      "2                       C. K. Dexter Haven\n",
      "3                         Johnnie Aysgarth\n",
      "4                             Leopold Dilg\n",
      "5                    Patrick 'Pat' O'Toole\n",
      "6                            Capt. Cassidy\n",
      "7     Joe Adams -posing as Joe Bascopolous\n",
      "8                              Jerry Flynn\n",
      "9                        Mortimer Brewster\n",
      "10                              Ernie Mott\n",
      "11                             Cole Porter\n",
      "12                                  Devlin\n",
      "13                             Dick Nugent\n",
      "14                                  Dudley\n",
      "15                           Jim Blandings\n",
      "16                       Dr. Madison Brown\n",
      "17                   Captain Henri Rochard\n",
      "Name: character, dtype: object\n"
     ]
    }
   ],
   "source": [
    "print(\"List of leading roles having n=1 in 1940s are:\\n\"\n",
    "      ,cast[(cast[\"year\"] > 1939) & \n",
    "     (cast[\"year\"] < 1950) & (cast[\"name\"] == \"Cary Grant\") & \n",
    "     (cast[\"n\"] == 1.0)].sort_values('year',ascending=True,ignore_index=True).character)"
   ]
  },
  {
   "cell_type": "markdown",
   "metadata": {
    "collapsed": true
   },
   "source": [
    "### How many roles were available for actors in the 1950s?"
   ]
  },
  {
   "cell_type": "code",
   "execution_count": 34,
   "metadata": {},
   "outputs": [
    {
     "name": "stdout",
     "output_type": "stream",
     "text": [
      "No of roles which were available in 1950s are:  215471\n"
     ]
    }
   ],
   "source": [
    "print(\"No of roles which were available in 1950s are: \"\n",
    "      ,len(cast[(cast[\"year\"] > 1949) & \n",
    "     (cast[\"year\"] < 1960) ].n))"
   ]
  },
  {
   "cell_type": "markdown",
   "metadata": {
    "collapsed": true
   },
   "source": [
    "### How many roles were available for actresses in the 1950s?"
   ]
  },
  {
   "cell_type": "code",
   "execution_count": 35,
   "metadata": {},
   "outputs": [
    {
     "name": "stdout",
     "output_type": "stream",
     "text": [
      "No of roles which were available in 1950s for actresses are:  57733\n"
     ]
    }
   ],
   "source": [
    "print(\"No of roles which were available in 1950s for actresses are: \"\n",
    "      ,len(cast[(cast[\"year\"] > 1949) & \n",
    "     (cast[\"year\"] < 1960) & (cast[\"type\"] == \"actress\" )].n))"
   ]
  },
  {
   "cell_type": "markdown",
   "metadata": {
    "collapsed": true
   },
   "source": [
    "### How many leading roles (n=1) were available from the beginning of film history through 1980?"
   ]
  },
  {
   "cell_type": "code",
   "execution_count": 36,
   "metadata": {},
   "outputs": [
    {
     "name": "stdout",
     "output_type": "stream",
     "text": [
      "List of leading roles having till 1980 are:  63957\n"
     ]
    }
   ],
   "source": [
    "print(\"List of leading roles having till 1980 are: \"\n",
    "      ,cast[(cast[\"year\"] < 1980)&(cast[\"n\"] == 1.0)].sort_values('year',ascending=True,ignore_index=True).n.count())"
   ]
  },
  {
   "cell_type": "markdown",
   "metadata": {
    "collapsed": true
   },
   "source": [
    "### How many non-leading roles were available through from the beginning of film history through 1980?"
   ]
  },
  {
   "cell_type": "code",
   "execution_count": 37,
   "metadata": {},
   "outputs": [
    {
     "name": "stdout",
     "output_type": "stream",
     "text": [
      "List of non leading roles having till 1980 are:  651497\n"
     ]
    }
   ],
   "source": [
    "print(\"List of non leading roles having till 1980 are: \"\n",
    "      ,cast[(cast[\"year\"] < 1980)&(cast[\"n\"] != 1.0)].sort_values('year',ascending=True,ignore_index=True).n.count())"
   ]
  },
  {
   "cell_type": "markdown",
   "metadata": {
    "collapsed": true
   },
   "source": [
    "### How many roles through 1980 were minor enough that they did not warrant a numeric \"n\" rank?"
   ]
  },
  {
   "cell_type": "code",
   "execution_count": 38,
   "metadata": {},
   "outputs": [
    {
     "name": "stdout",
     "output_type": "stream",
     "text": [
      "List of roles till 1980 with no numeric rank are:  443881\n"
     ]
    }
   ],
   "source": [
    "print(\"List of roles till 1980 with no numeric rank are: \",cast[(cast[\"year\"] < 1980)].n.isnull().sum())"
   ]
  }
 ],
 "metadata": {
  "kernelspec": {
   "display_name": "Python 3",
   "language": "python",
   "name": "python3"
  },
  "language_info": {
   "codemirror_mode": {
    "name": "ipython",
    "version": 3
   },
   "file_extension": ".py",
   "mimetype": "text/x-python",
   "name": "python",
   "nbconvert_exporter": "python",
   "pygments_lexer": "ipython3",
   "version": "3.7.6"
  }
 },
 "nbformat": 4,
 "nbformat_minor": 1
}
