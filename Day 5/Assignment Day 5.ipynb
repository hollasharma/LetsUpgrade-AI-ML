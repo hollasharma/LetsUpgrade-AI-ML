{
 "cells": [
  {
   "cell_type": "markdown",
   "metadata": {},
   "source": [
    "# Assignment Day 5 | 10th July 2020"
   ]
  },
  {
   "cell_type": "markdown",
   "metadata": {},
   "source": [
    "### Question 1 :\n",
    "Write a Python program to find the first 20 non-even prime natural numbers."
   ]
  },
  {
   "cell_type": "code",
   "execution_count": 1,
   "metadata": {},
   "outputs": [
    {
     "name": "stdout",
     "output_type": "stream",
     "text": [
      "List of first 20 Non Even Prime nos are:\n",
      " [3, 5, 7, 11, 13, 17, 19, 23, 29, 31, 37, 41, 43, 47, 53, 59, 61, 67, 71, 73]\n"
     ]
    }
   ],
   "source": [
    "primelst=[]\n",
    "for num in range(1,100):\n",
    "    if (num > 2 and len(primelst) < 20):\n",
    "        for i in range(2,num):\n",
    "            if (num%i==0):\n",
    "                break\n",
    "        else:\n",
    "            primelst.append(num)\n",
    "\n",
    "print(\"List of first 20 Non Even Prime nos are:\\n\",primelst)"
   ]
  },
  {
   "cell_type": "markdown",
   "metadata": {},
   "source": [
    "### Question 2 :\n",
    "Write a Python program to implement 15 functions of string."
   ]
  },
  {
   "cell_type": "code",
   "execution_count": 2,
   "metadata": {},
   "outputs": [
    {
     "name": "stdout",
     "output_type": "stream",
     "text": [
      "LetsUpgrade AI-ML-Batch 2020\n",
      "['LetsUpgrade AI', 'ML', 'Batch {}']\n",
      "LetsUpgrade AI-ML-Batch {} 2020\n",
      "Upgrade AI-ML-Batch {}\n",
      "False\n",
      "False\n",
      "LETSUPGRADE AI-ML-BATCH {}\n",
      "letsupgrade ai-ml-batch {}\n",
      "LetsUpgrade Python-Batch {}\n",
      "True\n",
      "**LetsUpgrade AI-ML-Batch {}**\n",
      "15\n",
      "lETSuPGRADE ai-ml-bATCH {}\n",
      "False\n",
      "False\n"
     ]
    }
   ],
   "source": [
    "#List of any 15 string functions are as below with examples:\n",
    "\n",
    "my_string = \"LetsUpgrade AI-ML-Batch {}\"\n",
    "# 1. format()- value formatting with multiple substitions \n",
    "print (my_string.format(\"2020\"))\n",
    "\n",
    "# 2. split()- Used to split a string into list of strings based on a specific separator eg- ' ' or ':'\n",
    "\n",
    "# Splits at '-' \n",
    "print(my_string.split('-')) \n",
    "\n",
    "# 3. join()- function returns a new string that is the concatenation of the different strings \n",
    "print(\"\".join([my_string,\" 2020\"])) \n",
    "\n",
    "# 4. split()- Used to trim whitespaces or particular characters from the string \n",
    "print(my_string.strip(\"Lets\")) \n",
    "\n",
    "# 5. isupper()- To check if all the characters of a string are in upper case or not\n",
    "print(my_string.isupper())\n",
    "\n",
    "# 6. islower()- To check if all the characters of a string are in lower case or not\n",
    "print(my_string.islower())\n",
    "\n",
    "# 7. upper()- To convert all the characters in upper case \n",
    "print(my_string.upper())\n",
    "\n",
    "# 8. lower()- To convert all the characters in lower case \n",
    "print(my_string.lower())\n",
    "\n",
    "# 9. replace()- it is used to create a new string by replacing some parts of another string.\n",
    "print(my_string.replace(\"AI-ML\", \"Python\"))\n",
    "\n",
    "# 10. __contains__() function that we can use to check if it contains another string/character or not.\n",
    "print(my_string.__contains__(\"Lets\"))\n",
    "\n",
    "# 11. center()-returns a centered string of specified size.\n",
    "print(my_string.center(30,'*'))\n",
    "\n",
    "# 12. find()- it is used to find the index of a substring in a string.\n",
    "print(my_string.find('ML')) \n",
    "\n",
    "# 13. swapcase()- returns a new string with uppercase characters converted to lowercase and vice versa.\n",
    "print(my_string.swapcase()) \n",
    "\n",
    "# 14. isalnum()- returns True if string is made of alphanumeric characters only.\n",
    "print(my_string.isalnum()) \n",
    "\n",
    "# 15. isalpha()- returns True if all the characters in the string are alphabets, otherwise False.\n",
    "print(my_string.isalpha()) "
   ]
  },
  {
   "cell_type": "markdown",
   "metadata": {},
   "source": [
    "### Question 3:\n",
    "Write a Python program to check if the given string is a Palindrome or Anagram or None of them.\n",
    "Display the message accordingly to the user."
   ]
  },
  {
   "cell_type": "code",
   "execution_count": 4,
   "metadata": {},
   "outputs": [
    {
     "name": "stdout",
     "output_type": "stream",
     "text": [
      "Enter a string: Mom\n",
      "Entered string is a Palindrome\n"
     ]
    }
   ],
   "source": [
    "str1 = input(\"Enter a string: \")\n",
    "str1=str1.lower()\n",
    "rev_str=''.join(reversed(str1))\n",
    "if rev_str==str1:\n",
    "    print(\"Entered string is a Palindrome\")\n",
    "else:\n",
    "    str2= input(\"Enter another string: \")\n",
    "    str2=str2.lower()\n",
    "    str1=sorted(str1)\n",
    "    str2=sorted(str2)\n",
    "    if str1==str2:\n",
    "        print(\"Both the entered strings are Anagram\")\n",
    "    else:\n",
    "        print(\"Neither Palindrome nor Anagram\")"
   ]
  },
  {
   "cell_type": "markdown",
   "metadata": {},
   "source": [
    "### Question 4:\n",
    "Write a Python's user defined function that removes all the additional characters from the string\n",
    "and converts it finally to lower case using built-in lower(). eg: If the string is \"Dr. Darshan Ingle\n",
    "@AI-ML Trainer\", then the output be \"drdarshaningleaimltrainer\"."
   ]
  },
  {
   "cell_type": "code",
   "execution_count": 5,
   "metadata": {},
   "outputs": [
    {
     "name": "stdout",
     "output_type": "stream",
     "text": [
      "Enter a string: Let'sUpgrade in 2020 in AI-ML\n",
      "LetsUpgradeininAIML\n"
     ]
    }
   ],
   "source": [
    "def removespclchars(mystr):\n",
    "    for i in mystr:\n",
    "        if not(i.isalpha()):\n",
    "            mystr = mystr.replace(i,'')\n",
    "    print(mystr)\n",
    "    \n",
    "string = removespclchars (input(\"Enter a string: \"))"
   ]
  },
  {
   "cell_type": "code",
   "execution_count": null,
   "metadata": {},
   "outputs": [],
   "source": []
  },
  {
   "cell_type": "code",
   "execution_count": null,
   "metadata": {},
   "outputs": [],
   "source": []
  },
  {
   "cell_type": "code",
   "execution_count": null,
   "metadata": {},
   "outputs": [],
   "source": []
  },
  {
   "cell_type": "code",
   "execution_count": null,
   "metadata": {},
   "outputs": [],
   "source": []
  },
  {
   "cell_type": "code",
   "execution_count": null,
   "metadata": {},
   "outputs": [],
   "source": []
  },
  {
   "cell_type": "code",
   "execution_count": null,
   "metadata": {},
   "outputs": [],
   "source": []
  },
  {
   "cell_type": "code",
   "execution_count": null,
   "metadata": {},
   "outputs": [],
   "source": [
    "\n"
   ]
  },
  {
   "cell_type": "code",
   "execution_count": null,
   "metadata": {},
   "outputs": [],
   "source": []
  },
  {
   "cell_type": "code",
   "execution_count": null,
   "metadata": {},
   "outputs": [],
   "source": []
  },
  {
   "cell_type": "code",
   "execution_count": null,
   "metadata": {},
   "outputs": [],
   "source": []
  }
 ],
 "metadata": {
  "kernelspec": {
   "display_name": "Python 3",
   "language": "python",
   "name": "python3"
  },
  "language_info": {
   "codemirror_mode": {
    "name": "ipython",
    "version": 3
   },
   "file_extension": ".py",
   "mimetype": "text/x-python",
   "name": "python",
   "nbconvert_exporter": "python",
   "pygments_lexer": "ipython3",
   "version": "3.7.6"
  }
 },
 "nbformat": 4,
 "nbformat_minor": 4
}
